{
 "cells": [
  {
   "cell_type": "markdown",
   "id": "d677508f-029a-4231-a168-c5da84fb1d40",
   "metadata": {},
   "source": [
    "import plotly.graph_objs as go\n",
    "import folium\n",
    "import pandas as pd\n",
    "import random\n",
    "import numpy as np"
   ]
  },
  {
   "cell_type": "markdown",
   "id": "165adce5-a9b9-41f1-b854-a2c153a90c0f",
   "metadata": {},
   "source": [
    "### Limpieza de datos para la aplicación de Streamlit"
   ]
  },
  {
   "cell_type": "markdown",
   "id": "19047c9a-c904-438a-8e52-cd5d77e61020",
   "metadata": {},
   "source": [
    "#### Diccionarios:"
   ]
  },
  {
   "cell_type": "code",
   "execution_count": null,
   "id": "ad99dc67-9d83-40a2-b0f4-a953ab0b4bf3",
   "metadata": {},
   "outputs": [],
   "source": [
    "months_to_numbers = {\n",
    "    'ene.': 1, 'feb.': 2, 'mar.': 3, 'abr.': 4, 'may.': 5, 'jun.': 6,\n",
    "    'jul.': 7, 'ago.': 8, 'sep.': 9, 'oct.': 10, 'nov.': 11, 'dic.': 12\n",
    "}\n",
    "\n",
    "numbers_to_months = {\n",
    "    1: 'Enero', 2: 'Febrero', 3: 'Marzo', 4: 'Abril', 5: 'Mayo', 6: 'Junio',\n",
    "    7: 'Julio', 8: 'Agosto', 9: 'Septiembre', 10: 'Octubre', 11: 'Noviembre', 12: 'Diciembre'\n",
    "}\n",
    "months_full = {\n",
    "    'ene.': 'enero', 'feb.': 'febrero', 'mar.': 'marzo', 'abr.': 'abril', \n",
    "    'may.': 'mayo', 'jun.': 'junio', 'jul.': 'julio', 'ago.': 'agosto',\n",
    "    'sep.': 'septiembre', 'oct.': 'octubre', 'nov.': 'noviembre', 'dic.': 'diciembre'\n",
    "}"
   ]
  },
  {
   "cell_type": "markdown",
   "id": "84f6bf11-b1b9-48d1-8be3-cdf98ccfb472",
   "metadata": {},
   "source": [
    "#### Funciones:"
   ]
  },
  {
   "cell_type": "code",
   "execution_count": null,
   "id": "693be609-f8ad-4c40-af0a-e099b8901d03",
   "metadata": {},
   "outputs": [],
   "source": [
    "def search_city(event):\n",
    "    for city in festivales_city.city.unique():\n",
    "        if city.lower() in event.lower():  \n",
    "            return city\n",
    "    return None  \n",
    "\n",
    "def replace_month(date):\n",
    "    for abbreviation, full_month in months_full.items():\n",
    "        if abbreviation in date:\n",
    "            date = date.replace(abbreviation, full_month)\n",
    "    return date\n"
   ]
  },
  {
   "cell_type": "markdown",
   "id": "1a7a5c0a-5f01-410f-a296-99a08b17d31f",
   "metadata": {},
   "source": [
    "#### Dataframes"
   ]
  },
  {
   "cell_type": "markdown",
   "id": "c61e7d5f-af6b-4941-867f-cca5b67e9b85",
   "metadata": {},
   "source": [
    "Del web scraping hemos sacado dos sets de datos con festivales: \n",
    "- festivales_city contiene una columna correspondiente a la ciudad pero no una correspondiente al género musical del festival.\n",
    "- festivales_genre contiene una correspondiente al género musical y no tiene una correspondiente a la ciudad."
   ]
  },
  {
   "cell_type": "markdown",
   "id": "00c658d3-2d1f-4249-b167-526a10a83710",
   "metadata": {},
   "source": [
    "##### festivales_city"
   ]
  },
  {
   "cell_type": "code",
   "execution_count": null,
   "id": "01b83b5a-7777-4e14-b176-4b30b6982d79",
   "metadata": {},
   "outputs": [],
   "source": [
    "festivales_city = pd.read_csv(\n",
    "    r'C:\\Users\\34711\\Desktop\\Practica OpenData\\festivales_ciudad_definitivo.csv', sep=',')\n",
    "\n",
    "festivales_city = festivales_city.assign(\n",
    "    day = festivales_city.event_dates.apply(lambda x: x.split(' ')[0]))\n",
    "\n",
    "festivales_city = festivales_city.assign(\n",
    "    month = festivales_city.event_dates.apply(lambda x: x.split(' ')[1]))\n",
    "\n",
    "festivales_city = festivales_city.assign(\n",
    "    month = festivales_city.month.map(months_to_numbers))\n",
    "\n",
    "festivales_city = festivales_city.assign(\n",
    "    year = festivales_city.event_dates.apply(lambda x: x.split(' ')[-1]))\n",
    "\n",
    "festivales_city = festivales_city.assign(\n",
    "    formated_date=festivales_city.year.astype(str) + \n",
    "    '-' + festivales_city.month.astype(str) + \n",
    "    '-' + festivales_city.day.astype(str))\n",
    "\n",
    "festivales_city =festivales_city.assign(\n",
    "    event_dates=festivales_city.event_dates.apply(replace_month))\n",
    "\n",
    "\n",
    "festivales_city = festivales_city.assign(\n",
    "    event_prices=festivales_city.event_prices.fillna('No se especifica'))\n",
    "\n",
    "festivales_city.to_csv(\"C:/Users/34711/Desktop/Practica OpenData/festivales_city_clean.csv\", index=False)"
   ]
  },
  {
   "cell_type": "markdown",
   "id": "82d95292-896a-495f-b381-54b74781a385",
   "metadata": {},
   "source": [
    "##### festivales_genre"
   ]
  },
  {
   "cell_type": "markdown",
   "id": "077cb51a-1f35-4042-9fc3-c9ef3dbd5ef5",
   "metadata": {},
   "source": [
    "A parte de limpiar vamos a crear una columna 'city' creando una función que busca el nombre de la ciudad en los nombres de los festivales."
   ]
  },
  {
   "cell_type": "code",
   "execution_count": 2,
   "id": "7fa0e09c-0eb7-4a1c-8903-42c8386a502d",
   "metadata": {},
   "outputs": [
    {
     "data": {
      "text/html": [
       "<div>\n",
       "<style scoped>\n",
       "    .dataframe tbody tr th:only-of-type {\n",
       "        vertical-align: middle;\n",
       "    }\n",
       "\n",
       "    .dataframe tbody tr th {\n",
       "        vertical-align: top;\n",
       "    }\n",
       "\n",
       "    .dataframe thead th {\n",
       "        text-align: right;\n",
       "    }\n",
       "</style>\n",
       "<table border=\"1\" class=\"dataframe\">\n",
       "  <thead>\n",
       "    <tr style=\"text-align: right;\">\n",
       "      <th></th>\n",
       "      <th>city</th>\n",
       "      <th>event_names</th>\n",
       "      <th>event_dates</th>\n",
       "      <th>event_prices</th>\n",
       "      <th>event_followers</th>\n",
       "      <th>day</th>\n",
       "      <th>month</th>\n",
       "      <th>year</th>\n",
       "      <th>formated_date</th>\n",
       "    </tr>\n",
       "  </thead>\n",
       "  <tbody>\n",
       "    <tr>\n",
       "      <th>0</th>\n",
       "      <td>Alicante</td>\n",
       "      <td>ROCK TRIO - Bon Jovi, Queen &amp; Aerosmith (Alica...</td>\n",
       "      <td>21 diciembre 2024</td>\n",
       "      <td>15,00 €</td>\n",
       "      <td>18</td>\n",
       "      <td>21</td>\n",
       "      <td>12</td>\n",
       "      <td>2024</td>\n",
       "      <td>2024-12-21</td>\n",
       "    </tr>\n",
       "    <tr>\n",
       "      <th>1</th>\n",
       "      <td>Alicante</td>\n",
       "      <td>Spring Festival 2025</td>\n",
       "      <td>30 mayo 2025</td>\n",
       "      <td>49,99 €</td>\n",
       "      <td>202</td>\n",
       "      <td>30</td>\n",
       "      <td>5</td>\n",
       "      <td>2025</td>\n",
       "      <td>2025-5-30</td>\n",
       "    </tr>\n",
       "    <tr>\n",
       "      <th>2</th>\n",
       "      <td>Alicante</td>\n",
       "      <td>Low Festival 2025</td>\n",
       "      <td>25 julio 2025</td>\n",
       "      <td>No se especifica</td>\n",
       "      <td>233</td>\n",
       "      <td>25</td>\n",
       "      <td>7</td>\n",
       "      <td>2025</td>\n",
       "      <td>2025-7-25</td>\n",
       "    </tr>\n",
       "    <tr>\n",
       "      <th>3</th>\n",
       "      <td>Alicante</td>\n",
       "      <td>Leyendas del Rock 2025</td>\n",
       "      <td>6 agosto 2025</td>\n",
       "      <td>168,00 €</td>\n",
       "      <td>71</td>\n",
       "      <td>6</td>\n",
       "      <td>8</td>\n",
       "      <td>2025</td>\n",
       "      <td>2025-8-6</td>\n",
       "    </tr>\n",
       "    <tr>\n",
       "      <th>4</th>\n",
       "      <td>Alicante</td>\n",
       "      <td>Rabolagartija Festival 2025</td>\n",
       "      <td>15 agosto 2025</td>\n",
       "      <td>59,00 €</td>\n",
       "      <td>39</td>\n",
       "      <td>15</td>\n",
       "      <td>8</td>\n",
       "      <td>2025</td>\n",
       "      <td>2025-8-15</td>\n",
       "    </tr>\n",
       "    <tr>\n",
       "      <th>5</th>\n",
       "      <td>Barcelona</td>\n",
       "      <td>Candlelight Barcelona 2024</td>\n",
       "      <td>1 enero 2024</td>\n",
       "      <td>15,00 €</td>\n",
       "      <td>40</td>\n",
       "      <td>1</td>\n",
       "      <td>1</td>\n",
       "      <td>2024</td>\n",
       "      <td>2024-1-1</td>\n",
       "    </tr>\n",
       "    <tr>\n",
       "      <th>6</th>\n",
       "      <td>Barcelona</td>\n",
       "      <td>Festival Mil·lenni 2024</td>\n",
       "      <td>8 febrero 2024</td>\n",
       "      <td>16,00 €</td>\n",
       "      <td>48</td>\n",
       "      <td>8</td>\n",
       "      <td>2</td>\n",
       "      <td>2024</td>\n",
       "      <td>2024-2-8</td>\n",
       "    </tr>\n",
       "    <tr>\n",
       "      <th>7</th>\n",
       "      <td>Barcelona</td>\n",
       "      <td>Primavera Sound Barcelona 2025</td>\n",
       "      <td>5 junio 2025</td>\n",
       "      <td>400,00 €</td>\n",
       "      <td>522</td>\n",
       "      <td>5</td>\n",
       "      <td>6</td>\n",
       "      <td>2025</td>\n",
       "      <td>2025-6-5</td>\n",
       "    </tr>\n",
       "    <tr>\n",
       "      <th>8</th>\n",
       "      <td>Barcelona</td>\n",
       "      <td>Sónar Barcelona 2025</td>\n",
       "      <td>12 junio 2025</td>\n",
       "      <td>180,00 €</td>\n",
       "      <td>114</td>\n",
       "      <td>12</td>\n",
       "      <td>6</td>\n",
       "      <td>2025</td>\n",
       "      <td>2025-6-12</td>\n",
       "    </tr>\n",
       "    <tr>\n",
       "      <th>9</th>\n",
       "      <td>Barcelona</td>\n",
       "      <td>Barcelona Rock Fest 2025</td>\n",
       "      <td>26 junio 2025</td>\n",
       "      <td>No se especifica</td>\n",
       "      <td>24</td>\n",
       "      <td>26</td>\n",
       "      <td>6</td>\n",
       "      <td>2025</td>\n",
       "      <td>2025-6-26</td>\n",
       "    </tr>\n",
       "    <tr>\n",
       "      <th>10</th>\n",
       "      <td>Barcelona</td>\n",
       "      <td>Vida Festival 2025</td>\n",
       "      <td>3 julio 2025</td>\n",
       "      <td>43,70 €</td>\n",
       "      <td>88</td>\n",
       "      <td>3</td>\n",
       "      <td>7</td>\n",
       "      <td>2025</td>\n",
       "      <td>2025-7-3</td>\n",
       "    </tr>\n",
       "    <tr>\n",
       "      <th>11</th>\n",
       "      <td>Barcelona</td>\n",
       "      <td>Cruïlla 2025</td>\n",
       "      <td>9 julio 2025</td>\n",
       "      <td>11,00 €</td>\n",
       "      <td>291</td>\n",
       "      <td>9</td>\n",
       "      <td>7</td>\n",
       "      <td>2025</td>\n",
       "      <td>2025-7-9</td>\n",
       "    </tr>\n",
       "    <tr>\n",
       "      <th>12</th>\n",
       "      <td>Barcelona</td>\n",
       "      <td>MIRA Festival 2025</td>\n",
       "      <td>7 noviembre 2025</td>\n",
       "      <td>83,43 €</td>\n",
       "      <td>5</td>\n",
       "      <td>7</td>\n",
       "      <td>11</td>\n",
       "      <td>2025</td>\n",
       "      <td>2025-11-7</td>\n",
       "    </tr>\n",
       "    <tr>\n",
       "      <th>13</th>\n",
       "      <td>Barcelona</td>\n",
       "      <td>Loco Bongo XXL</td>\n",
       "      <td>6 diciembre 2025</td>\n",
       "      <td>No se especifica</td>\n",
       "      <td>2</td>\n",
       "      <td>6</td>\n",
       "      <td>12</td>\n",
       "      <td>2025</td>\n",
       "      <td>2025-12-6</td>\n",
       "    </tr>\n",
       "    <tr>\n",
       "      <th>14</th>\n",
       "      <td>Coruña</td>\n",
       "      <td>O Son Do Camiño 2025</td>\n",
       "      <td>12 julio 2025</td>\n",
       "      <td>No se especifica</td>\n",
       "      <td>306</td>\n",
       "      <td>12</td>\n",
       "      <td>7</td>\n",
       "      <td>2025</td>\n",
       "      <td>2025-7-12</td>\n",
       "    </tr>\n",
       "    <tr>\n",
       "      <th>15</th>\n",
       "      <td>Coruña</td>\n",
       "      <td>Morriña Festival 2025</td>\n",
       "      <td>25 julio 2025</td>\n",
       "      <td>No se especifica</td>\n",
       "      <td>49</td>\n",
       "      <td>25</td>\n",
       "      <td>7</td>\n",
       "      <td>2025</td>\n",
       "      <td>2025-7-25</td>\n",
       "    </tr>\n",
       "    <tr>\n",
       "      <th>16</th>\n",
       "      <td>Bilbao</td>\n",
       "      <td>Negufest</td>\n",
       "      <td>28 diciembre 2024</td>\n",
       "      <td>No se especifica</td>\n",
       "      <td>5</td>\n",
       "      <td>28</td>\n",
       "      <td>12</td>\n",
       "      <td>2024</td>\n",
       "      <td>2024-12-28</td>\n",
       "    </tr>\n",
       "    <tr>\n",
       "      <th>17</th>\n",
       "      <td>Bilbao</td>\n",
       "      <td>Festival de Tributos AMERICAN ROCK PUNK (Bilbao)</td>\n",
       "      <td>17 mayo 2025</td>\n",
       "      <td>15,00 €</td>\n",
       "      <td>17</td>\n",
       "      <td>17</td>\n",
       "      <td>5</td>\n",
       "      <td>2025</td>\n",
       "      <td>2025-5-17</td>\n",
       "    </tr>\n",
       "    <tr>\n",
       "      <th>18</th>\n",
       "      <td>Bilbao</td>\n",
       "      <td>Bilbao BBK Live 2025</td>\n",
       "      <td>10 julio 2025</td>\n",
       "      <td>No se especifica</td>\n",
       "      <td>657</td>\n",
       "      <td>10</td>\n",
       "      <td>7</td>\n",
       "      <td>2025</td>\n",
       "      <td>2025-7-10</td>\n",
       "    </tr>\n",
       "    <tr>\n",
       "      <th>19</th>\n",
       "      <td>Bilbao</td>\n",
       "      <td>BIME 2025</td>\n",
       "      <td>28 octubre 2025</td>\n",
       "      <td>No se especifica</td>\n",
       "      <td>13</td>\n",
       "      <td>28</td>\n",
       "      <td>10</td>\n",
       "      <td>2025</td>\n",
       "      <td>2025-10-28</td>\n",
       "    </tr>\n",
       "    <tr>\n",
       "      <th>20</th>\n",
       "      <td>Granada</td>\n",
       "      <td>ROCK TRIO - Bon Jovi, Queen &amp; Aerosmith (Granada)</td>\n",
       "      <td>20 diciembre 2024</td>\n",
       "      <td>15,00 €</td>\n",
       "      <td>27</td>\n",
       "      <td>20</td>\n",
       "      <td>12</td>\n",
       "      <td>2024</td>\n",
       "      <td>2024-12-20</td>\n",
       "    </tr>\n",
       "    <tr>\n",
       "      <th>21</th>\n",
       "      <td>Granada</td>\n",
       "      <td>Sun &amp; Snow Weekend 2025</td>\n",
       "      <td>4 abril 2025</td>\n",
       "      <td>53,90 €</td>\n",
       "      <td>3</td>\n",
       "      <td>4</td>\n",
       "      <td>4</td>\n",
       "      <td>2025</td>\n",
       "      <td>2025-4-4</td>\n",
       "    </tr>\n",
       "    <tr>\n",
       "      <th>22</th>\n",
       "      <td>Granada</td>\n",
       "      <td>Degusta Fest</td>\n",
       "      <td>27 junio 2025</td>\n",
       "      <td>66,00 €</td>\n",
       "      <td>2</td>\n",
       "      <td>27</td>\n",
       "      <td>6</td>\n",
       "      <td>2025</td>\n",
       "      <td>2025-6-27</td>\n",
       "    </tr>\n",
       "    <tr>\n",
       "      <th>23</th>\n",
       "      <td>Granada</td>\n",
       "      <td>Granada Latina Festival 2025</td>\n",
       "      <td>28 junio 2025</td>\n",
       "      <td>No se especifica</td>\n",
       "      <td>81</td>\n",
       "      <td>28</td>\n",
       "      <td>6</td>\n",
       "      <td>2025</td>\n",
       "      <td>2025-6-28</td>\n",
       "    </tr>\n",
       "    <tr>\n",
       "      <th>24</th>\n",
       "      <td>Granada</td>\n",
       "      <td>Granada Sound 2025</td>\n",
       "      <td>12 septiembre 2025</td>\n",
       "      <td>No se especifica</td>\n",
       "      <td>533</td>\n",
       "      <td>12</td>\n",
       "      <td>9</td>\n",
       "      <td>2025</td>\n",
       "      <td>2025-9-12</td>\n",
       "    </tr>\n",
       "    <tr>\n",
       "      <th>25</th>\n",
       "      <td>Málaga</td>\n",
       "      <td>Weekend Beach Festival 2025</td>\n",
       "      <td>10 julio 2025</td>\n",
       "      <td>70,00 €</td>\n",
       "      <td>92</td>\n",
       "      <td>10</td>\n",
       "      <td>7</td>\n",
       "      <td>2025</td>\n",
       "      <td>2025-7-10</td>\n",
       "    </tr>\n",
       "    <tr>\n",
       "      <th>26</th>\n",
       "      <td>Málaga</td>\n",
       "      <td>Canela Party 2025</td>\n",
       "      <td>20 agosto 2025</td>\n",
       "      <td>80,00 €</td>\n",
       "      <td>69</td>\n",
       "      <td>20</td>\n",
       "      <td>8</td>\n",
       "      <td>2025</td>\n",
       "      <td>2025-8-20</td>\n",
       "    </tr>\n",
       "    <tr>\n",
       "      <th>27</th>\n",
       "      <td>Madrid</td>\n",
       "      <td>Candlelight Madrid 2024</td>\n",
       "      <td>1 enero 2024</td>\n",
       "      <td>20,00 €</td>\n",
       "      <td>92</td>\n",
       "      <td>1</td>\n",
       "      <td>1</td>\n",
       "      <td>2024</td>\n",
       "      <td>2024-1-1</td>\n",
       "    </tr>\n",
       "    <tr>\n",
       "      <th>28</th>\n",
       "      <td>Madrid</td>\n",
       "      <td>El Festival de las Estrellas 2024</td>\n",
       "      <td>1 enero 2024</td>\n",
       "      <td>10,00 €</td>\n",
       "      <td>323</td>\n",
       "      <td>1</td>\n",
       "      <td>1</td>\n",
       "      <td>2024</td>\n",
       "      <td>2024-1-1</td>\n",
       "    </tr>\n",
       "    <tr>\n",
       "      <th>29</th>\n",
       "      <td>Madrid</td>\n",
       "      <td>Summum Concert Series</td>\n",
       "      <td>6 octubre 2024</td>\n",
       "      <td>25,00 €</td>\n",
       "      <td>6</td>\n",
       "      <td>6</td>\n",
       "      <td>10</td>\n",
       "      <td>2024</td>\n",
       "      <td>2024-10-6</td>\n",
       "    </tr>\n",
       "    <tr>\n",
       "      <th>30</th>\n",
       "      <td>Madrid</td>\n",
       "      <td>Festival de Tributos AMERICAN ROCK STARS (El E...</td>\n",
       "      <td>4 enero 2025</td>\n",
       "      <td>13,00 €</td>\n",
       "      <td>5</td>\n",
       "      <td>4</td>\n",
       "      <td>1</td>\n",
       "      <td>2025</td>\n",
       "      <td>2025-1-4</td>\n",
       "    </tr>\n",
       "    <tr>\n",
       "      <th>31</th>\n",
       "      <td>Madrid</td>\n",
       "      <td>Iboga Festival Madrid 2024</td>\n",
       "      <td>15 febrero 2025</td>\n",
       "      <td>22,50 €</td>\n",
       "      <td>1</td>\n",
       "      <td>15</td>\n",
       "      <td>2</td>\n",
       "      <td>2025</td>\n",
       "      <td>2025-2-15</td>\n",
       "    </tr>\n",
       "    <tr>\n",
       "      <th>32</th>\n",
       "      <td>Madrid</td>\n",
       "      <td>Horteralia Madrid 2025</td>\n",
       "      <td>22 febrero 2025</td>\n",
       "      <td>No se especifica</td>\n",
       "      <td>1</td>\n",
       "      <td>22</td>\n",
       "      <td>2</td>\n",
       "      <td>2025</td>\n",
       "      <td>2025-2-22</td>\n",
       "    </tr>\n",
       "    <tr>\n",
       "      <th>33</th>\n",
       "      <td>Madrid</td>\n",
       "      <td>ALMA Y JALEO 21-MAR</td>\n",
       "      <td>21 marzo 2025</td>\n",
       "      <td>15,00 €</td>\n",
       "      <td>2</td>\n",
       "      <td>21</td>\n",
       "      <td>3</td>\n",
       "      <td>2025</td>\n",
       "      <td>2025-3-21</td>\n",
       "    </tr>\n",
       "    <tr>\n",
       "      <th>34</th>\n",
       "      <td>Madrid</td>\n",
       "      <td>ALMA Y JALEO 22-MAR</td>\n",
       "      <td>22 marzo 2025</td>\n",
       "      <td>25,00 €</td>\n",
       "      <td>8</td>\n",
       "      <td>22</td>\n",
       "      <td>3</td>\n",
       "      <td>2025</td>\n",
       "      <td>2025-3-22</td>\n",
       "    </tr>\n",
       "    <tr>\n",
       "      <th>35</th>\n",
       "      <td>Madrid</td>\n",
       "      <td>Tomavistas 2025</td>\n",
       "      <td>29 mayo 2025</td>\n",
       "      <td>100,00 €</td>\n",
       "      <td>276</td>\n",
       "      <td>29</td>\n",
       "      <td>5</td>\n",
       "      <td>2025</td>\n",
       "      <td>2025-5-29</td>\n",
       "    </tr>\n",
       "    <tr>\n",
       "      <th>36</th>\n",
       "      <td>Madrid</td>\n",
       "      <td>play4life</td>\n",
       "      <td>7 junio 2025</td>\n",
       "      <td>No se especifica</td>\n",
       "      <td>2</td>\n",
       "      <td>7</td>\n",
       "      <td>6</td>\n",
       "      <td>2025</td>\n",
       "      <td>2025-6-7</td>\n",
       "    </tr>\n",
       "    <tr>\n",
       "      <th>37</th>\n",
       "      <td>Madrid</td>\n",
       "      <td>A Summer Story 2025</td>\n",
       "      <td>20 junio 2025</td>\n",
       "      <td>No se especifica</td>\n",
       "      <td>138</td>\n",
       "      <td>20</td>\n",
       "      <td>6</td>\n",
       "      <td>2025</td>\n",
       "      <td>2025-6-20</td>\n",
       "    </tr>\n",
       "    <tr>\n",
       "      <th>38</th>\n",
       "      <td>Madrid</td>\n",
       "      <td>Festival Río Babel 2025</td>\n",
       "      <td>3 julio 2025</td>\n",
       "      <td>No se especifica</td>\n",
       "      <td>298</td>\n",
       "      <td>3</td>\n",
       "      <td>7</td>\n",
       "      <td>2025</td>\n",
       "      <td>2025-7-3</td>\n",
       "    </tr>\n",
       "    <tr>\n",
       "      <th>39</th>\n",
       "      <td>Madrid</td>\n",
       "      <td>Brava Madrid 2025</td>\n",
       "      <td>19 septiembre 2025</td>\n",
       "      <td>No se especifica</td>\n",
       "      <td>138</td>\n",
       "      <td>19</td>\n",
       "      <td>9</td>\n",
       "      <td>2025</td>\n",
       "      <td>2025-9-19</td>\n",
       "    </tr>\n",
       "    <tr>\n",
       "      <th>40</th>\n",
       "      <td>Madrid</td>\n",
       "      <td>Madrid Salvaje 2025</td>\n",
       "      <td>26 septiembre 2025</td>\n",
       "      <td>No se especifica</td>\n",
       "      <td>220</td>\n",
       "      <td>26</td>\n",
       "      <td>9</td>\n",
       "      <td>2025</td>\n",
       "      <td>2025-9-26</td>\n",
       "    </tr>\n",
       "    <tr>\n",
       "      <th>41</th>\n",
       "      <td>Oviedo</td>\n",
       "      <td>Nochevieja Universitaria: Especial DADE</td>\n",
       "      <td>20 diciembre 2024</td>\n",
       "      <td>5,50 €</td>\n",
       "      <td>0</td>\n",
       "      <td>20</td>\n",
       "      <td>12</td>\n",
       "      <td>2024</td>\n",
       "      <td>2024-12-20</td>\n",
       "    </tr>\n",
       "    <tr>\n",
       "      <th>42</th>\n",
       "      <td>Oviedo</td>\n",
       "      <td>Nochebuena: BAD SANTA</td>\n",
       "      <td>24 diciembre 2024</td>\n",
       "      <td>6,00 €</td>\n",
       "      <td>2</td>\n",
       "      <td>24</td>\n",
       "      <td>12</td>\n",
       "      <td>2024</td>\n",
       "      <td>2024-12-24</td>\n",
       "    </tr>\n",
       "    <tr>\n",
       "      <th>43</th>\n",
       "      <td>Oviedo</td>\n",
       "      <td>Nochevieja 2024 en GLAM</td>\n",
       "      <td>1 enero 2025</td>\n",
       "      <td>40,00 €</td>\n",
       "      <td>26</td>\n",
       "      <td>1</td>\n",
       "      <td>1</td>\n",
       "      <td>2025</td>\n",
       "      <td>2025-1-1</td>\n",
       "    </tr>\n",
       "    <tr>\n",
       "      <th>44</th>\n",
       "      <td>Oviedo</td>\n",
       "      <td>MoshFest 2025</td>\n",
       "      <td>21 marzo 2025</td>\n",
       "      <td>15,00 €</td>\n",
       "      <td>11</td>\n",
       "      <td>21</td>\n",
       "      <td>3</td>\n",
       "      <td>2025</td>\n",
       "      <td>2025-3-21</td>\n",
       "    </tr>\n",
       "    <tr>\n",
       "      <th>45</th>\n",
       "      <td>Oviedo</td>\n",
       "      <td>Prestoso Fest 2025</td>\n",
       "      <td>7 agosto 2025</td>\n",
       "      <td>70,00 €</td>\n",
       "      <td>123</td>\n",
       "      <td>7</td>\n",
       "      <td>8</td>\n",
       "      <td>2025</td>\n",
       "      <td>2025-8-7</td>\n",
       "    </tr>\n",
       "    <tr>\n",
       "      <th>46</th>\n",
       "      <td>Oviedo</td>\n",
       "      <td>Aquasella Festival 2025</td>\n",
       "      <td>14 agosto 2025</td>\n",
       "      <td>79,90 €</td>\n",
       "      <td>93</td>\n",
       "      <td>14</td>\n",
       "      <td>8</td>\n",
       "      <td>2025</td>\n",
       "      <td>2025-8-14</td>\n",
       "    </tr>\n",
       "    <tr>\n",
       "      <th>47</th>\n",
       "      <td>Sevilla</td>\n",
       "      <td>Golden Nights Sevilla</td>\n",
       "      <td>27 octubre 2024</td>\n",
       "      <td>33,10 €</td>\n",
       "      <td>1</td>\n",
       "      <td>27</td>\n",
       "      <td>10</td>\n",
       "      <td>2024</td>\n",
       "      <td>2024-10-27</td>\n",
       "    </tr>\n",
       "    <tr>\n",
       "      <th>48</th>\n",
       "      <td>Sevilla</td>\n",
       "      <td>Interestelar Sevilla 2025</td>\n",
       "      <td>16 mayo 2025</td>\n",
       "      <td>65,00 €</td>\n",
       "      <td>573</td>\n",
       "      <td>16</td>\n",
       "      <td>5</td>\n",
       "      <td>2025</td>\n",
       "      <td>2025-5-16</td>\n",
       "    </tr>\n",
       "    <tr>\n",
       "      <th>49</th>\n",
       "      <td>Valencia</td>\n",
       "      <td>Sentimiento Vallenato Fest</td>\n",
       "      <td>29 marzo 2025</td>\n",
       "      <td>No se especifica</td>\n",
       "      <td>0</td>\n",
       "      <td>29</td>\n",
       "      <td>3</td>\n",
       "      <td>2025</td>\n",
       "      <td>2025-3-29</td>\n",
       "    </tr>\n",
       "    <tr>\n",
       "      <th>50</th>\n",
       "      <td>Valencia</td>\n",
       "      <td>Festival De Les Arts 2025</td>\n",
       "      <td>6 junio 2025</td>\n",
       "      <td>No se especifica</td>\n",
       "      <td>948</td>\n",
       "      <td>6</td>\n",
       "      <td>6</td>\n",
       "      <td>2025</td>\n",
       "      <td>2025-6-6</td>\n",
       "    </tr>\n",
       "    <tr>\n",
       "      <th>51</th>\n",
       "      <td>Valencia</td>\n",
       "      <td>BigSound Festival 2025</td>\n",
       "      <td>27 junio 2025</td>\n",
       "      <td>49,00 €</td>\n",
       "      <td>298</td>\n",
       "      <td>27</td>\n",
       "      <td>6</td>\n",
       "      <td>2025</td>\n",
       "      <td>2025-6-27</td>\n",
       "    </tr>\n",
       "    <tr>\n",
       "      <th>52</th>\n",
       "      <td>Valencia</td>\n",
       "      <td>Pirata Beach Festival 2025</td>\n",
       "      <td>9 julio 2025</td>\n",
       "      <td>42,00 €</td>\n",
       "      <td>116</td>\n",
       "      <td>9</td>\n",
       "      <td>7</td>\n",
       "      <td>2025</td>\n",
       "      <td>2025-7-9</td>\n",
       "    </tr>\n",
       "    <tr>\n",
       "      <th>53</th>\n",
       "      <td>Valencia</td>\n",
       "      <td>Festival Mediterránea 2025</td>\n",
       "      <td>14 agosto 2025</td>\n",
       "      <td>No se especifica</td>\n",
       "      <td>2</td>\n",
       "      <td>14</td>\n",
       "      <td>8</td>\n",
       "      <td>2025</td>\n",
       "      <td>2025-8-14</td>\n",
       "    </tr>\n",
       "    <tr>\n",
       "      <th>54</th>\n",
       "      <td>Zaragoza</td>\n",
       "      <td>Festival Zaragoza Feliz Feliz 2024</td>\n",
       "      <td>20 diciembre 2024</td>\n",
       "      <td>30,00 €</td>\n",
       "      <td>175</td>\n",
       "      <td>20</td>\n",
       "      <td>12</td>\n",
       "      <td>2024</td>\n",
       "      <td>2024-12-20</td>\n",
       "    </tr>\n",
       "    <tr>\n",
       "      <th>55</th>\n",
       "      <td>Zaragoza</td>\n",
       "      <td>MODELO Zaragoza Tour - ENTRADA TRIPLE</td>\n",
       "      <td>27 marzo 2025</td>\n",
       "      <td>30,00 €</td>\n",
       "      <td>10</td>\n",
       "      <td>27</td>\n",
       "      <td>3</td>\n",
       "      <td>2025</td>\n",
       "      <td>2025-3-27</td>\n",
       "    </tr>\n",
       "  </tbody>\n",
       "</table>\n",
       "</div>"
      ],
      "text/plain": [
       "         city                                        event_names  \\\n",
       "0    Alicante  ROCK TRIO - Bon Jovi, Queen & Aerosmith (Alica...   \n",
       "1    Alicante                               Spring Festival 2025   \n",
       "2    Alicante                                  Low Festival 2025   \n",
       "3    Alicante                             Leyendas del Rock 2025   \n",
       "4    Alicante                        Rabolagartija Festival 2025   \n",
       "5   Barcelona                         Candlelight Barcelona 2024   \n",
       "6   Barcelona                            Festival Mil·lenni 2024   \n",
       "7   Barcelona                     Primavera Sound Barcelona 2025   \n",
       "8   Barcelona                               Sónar Barcelona 2025   \n",
       "9   Barcelona                           Barcelona Rock Fest 2025   \n",
       "10  Barcelona                                 Vida Festival 2025   \n",
       "11  Barcelona                                       Cruïlla 2025   \n",
       "12  Barcelona                                 MIRA Festival 2025   \n",
       "13  Barcelona                                     Loco Bongo XXL   \n",
       "14     Coruña                               O Son Do Camiño 2025   \n",
       "15     Coruña                              Morriña Festival 2025   \n",
       "16     Bilbao                                           Negufest   \n",
       "17     Bilbao   Festival de Tributos AMERICAN ROCK PUNK (Bilbao)   \n",
       "18     Bilbao                               Bilbao BBK Live 2025   \n",
       "19     Bilbao                                          BIME 2025   \n",
       "20    Granada  ROCK TRIO - Bon Jovi, Queen & Aerosmith (Granada)   \n",
       "21    Granada                            Sun & Snow Weekend 2025   \n",
       "22    Granada                                       Degusta Fest   \n",
       "23    Granada                       Granada Latina Festival 2025   \n",
       "24    Granada                                 Granada Sound 2025   \n",
       "25     Málaga                        Weekend Beach Festival 2025   \n",
       "26     Málaga                                  Canela Party 2025   \n",
       "27     Madrid                            Candlelight Madrid 2024   \n",
       "28     Madrid                  El Festival de las Estrellas 2024   \n",
       "29     Madrid                              Summum Concert Series   \n",
       "30     Madrid  Festival de Tributos AMERICAN ROCK STARS (El E...   \n",
       "31     Madrid                         Iboga Festival Madrid 2024   \n",
       "32     Madrid                             Horteralia Madrid 2025   \n",
       "33     Madrid                                ALMA Y JALEO 21-MAR   \n",
       "34     Madrid                                ALMA Y JALEO 22-MAR   \n",
       "35     Madrid                                    Tomavistas 2025   \n",
       "36     Madrid                                          play4life   \n",
       "37     Madrid                                A Summer Story 2025   \n",
       "38     Madrid                            Festival Río Babel 2025   \n",
       "39     Madrid                                  Brava Madrid 2025   \n",
       "40     Madrid                                Madrid Salvaje 2025   \n",
       "41     Oviedo            Nochevieja Universitaria: Especial DADE   \n",
       "42     Oviedo                              Nochebuena: BAD SANTA   \n",
       "43     Oviedo                            Nochevieja 2024 en GLAM   \n",
       "44     Oviedo                                      MoshFest 2025   \n",
       "45     Oviedo                                 Prestoso Fest 2025   \n",
       "46     Oviedo                            Aquasella Festival 2025   \n",
       "47    Sevilla                              Golden Nights Sevilla   \n",
       "48    Sevilla                          Interestelar Sevilla 2025   \n",
       "49   Valencia                         Sentimiento Vallenato Fest   \n",
       "50   Valencia                          Festival De Les Arts 2025   \n",
       "51   Valencia                             BigSound Festival 2025   \n",
       "52   Valencia                         Pirata Beach Festival 2025   \n",
       "53   Valencia                         Festival Mediterránea 2025   \n",
       "54   Zaragoza                 Festival Zaragoza Feliz Feliz 2024   \n",
       "55   Zaragoza              MODELO Zaragoza Tour - ENTRADA TRIPLE   \n",
       "\n",
       "           event_dates      event_prices  event_followers day  month  year  \\\n",
       "0    21 diciembre 2024           15,00 €               18  21     12  2024   \n",
       "1         30 mayo 2025           49,99 €              202  30      5  2025   \n",
       "2        25 julio 2025  No se especifica              233  25      7  2025   \n",
       "3        6 agosto 2025          168,00 €               71   6      8  2025   \n",
       "4       15 agosto 2025           59,00 €               39  15      8  2025   \n",
       "5         1 enero 2024           15,00 €               40   1      1  2024   \n",
       "6       8 febrero 2024           16,00 €               48   8      2  2024   \n",
       "7         5 junio 2025          400,00 €              522   5      6  2025   \n",
       "8        12 junio 2025          180,00 €              114  12      6  2025   \n",
       "9        26 junio 2025  No se especifica               24  26      6  2025   \n",
       "10        3 julio 2025           43,70 €               88   3      7  2025   \n",
       "11        9 julio 2025           11,00 €              291   9      7  2025   \n",
       "12    7 noviembre 2025           83,43 €                5   7     11  2025   \n",
       "13    6 diciembre 2025  No se especifica                2   6     12  2025   \n",
       "14       12 julio 2025  No se especifica              306  12      7  2025   \n",
       "15       25 julio 2025  No se especifica               49  25      7  2025   \n",
       "16   28 diciembre 2024  No se especifica                5  28     12  2024   \n",
       "17        17 mayo 2025           15,00 €               17  17      5  2025   \n",
       "18       10 julio 2025  No se especifica              657  10      7  2025   \n",
       "19     28 octubre 2025  No se especifica               13  28     10  2025   \n",
       "20   20 diciembre 2024           15,00 €               27  20     12  2024   \n",
       "21        4 abril 2025           53,90 €                3   4      4  2025   \n",
       "22       27 junio 2025           66,00 €                2  27      6  2025   \n",
       "23       28 junio 2025  No se especifica               81  28      6  2025   \n",
       "24  12 septiembre 2025  No se especifica              533  12      9  2025   \n",
       "25       10 julio 2025           70,00 €               92  10      7  2025   \n",
       "26      20 agosto 2025           80,00 €               69  20      8  2025   \n",
       "27        1 enero 2024           20,00 €               92   1      1  2024   \n",
       "28        1 enero 2024           10,00 €              323   1      1  2024   \n",
       "29      6 octubre 2024           25,00 €                6   6     10  2024   \n",
       "30        4 enero 2025           13,00 €                5   4      1  2025   \n",
       "31     15 febrero 2025           22,50 €                1  15      2  2025   \n",
       "32     22 febrero 2025  No se especifica                1  22      2  2025   \n",
       "33       21 marzo 2025           15,00 €                2  21      3  2025   \n",
       "34       22 marzo 2025           25,00 €                8  22      3  2025   \n",
       "35        29 mayo 2025          100,00 €              276  29      5  2025   \n",
       "36        7 junio 2025  No se especifica                2   7      6  2025   \n",
       "37       20 junio 2025  No se especifica              138  20      6  2025   \n",
       "38        3 julio 2025  No se especifica              298   3      7  2025   \n",
       "39  19 septiembre 2025  No se especifica              138  19      9  2025   \n",
       "40  26 septiembre 2025  No se especifica              220  26      9  2025   \n",
       "41   20 diciembre 2024            5,50 €                0  20     12  2024   \n",
       "42   24 diciembre 2024            6,00 €                2  24     12  2024   \n",
       "43        1 enero 2025           40,00 €               26   1      1  2025   \n",
       "44       21 marzo 2025           15,00 €               11  21      3  2025   \n",
       "45       7 agosto 2025           70,00 €              123   7      8  2025   \n",
       "46      14 agosto 2025           79,90 €               93  14      8  2025   \n",
       "47     27 octubre 2024           33,10 €                1  27     10  2024   \n",
       "48        16 mayo 2025           65,00 €              573  16      5  2025   \n",
       "49       29 marzo 2025  No se especifica                0  29      3  2025   \n",
       "50        6 junio 2025  No se especifica              948   6      6  2025   \n",
       "51       27 junio 2025           49,00 €              298  27      6  2025   \n",
       "52        9 julio 2025           42,00 €              116   9      7  2025   \n",
       "53      14 agosto 2025  No se especifica                2  14      8  2025   \n",
       "54   20 diciembre 2024           30,00 €              175  20     12  2024   \n",
       "55       27 marzo 2025           30,00 €               10  27      3  2025   \n",
       "\n",
       "   formated_date  \n",
       "0     2024-12-21  \n",
       "1      2025-5-30  \n",
       "2      2025-7-25  \n",
       "3       2025-8-6  \n",
       "4      2025-8-15  \n",
       "5       2024-1-1  \n",
       "6       2024-2-8  \n",
       "7       2025-6-5  \n",
       "8      2025-6-12  \n",
       "9      2025-6-26  \n",
       "10      2025-7-3  \n",
       "11      2025-7-9  \n",
       "12     2025-11-7  \n",
       "13     2025-12-6  \n",
       "14     2025-7-12  \n",
       "15     2025-7-25  \n",
       "16    2024-12-28  \n",
       "17     2025-5-17  \n",
       "18     2025-7-10  \n",
       "19    2025-10-28  \n",
       "20    2024-12-20  \n",
       "21      2025-4-4  \n",
       "22     2025-6-27  \n",
       "23     2025-6-28  \n",
       "24     2025-9-12  \n",
       "25     2025-7-10  \n",
       "26     2025-8-20  \n",
       "27      2024-1-1  \n",
       "28      2024-1-1  \n",
       "29     2024-10-6  \n",
       "30      2025-1-4  \n",
       "31     2025-2-15  \n",
       "32     2025-2-22  \n",
       "33     2025-3-21  \n",
       "34     2025-3-22  \n",
       "35     2025-5-29  \n",
       "36      2025-6-7  \n",
       "37     2025-6-20  \n",
       "38      2025-7-3  \n",
       "39     2025-9-19  \n",
       "40     2025-9-26  \n",
       "41    2024-12-20  \n",
       "42    2024-12-24  \n",
       "43      2025-1-1  \n",
       "44     2025-3-21  \n",
       "45      2025-8-7  \n",
       "46     2025-8-14  \n",
       "47    2024-10-27  \n",
       "48     2025-5-16  \n",
       "49     2025-3-29  \n",
       "50      2025-6-6  \n",
       "51     2025-6-27  \n",
       "52      2025-7-9  \n",
       "53     2025-8-14  \n",
       "54    2024-12-20  \n",
       "55     2025-3-27  "
      ]
     },
     "execution_count": 2,
     "metadata": {},
     "output_type": "execute_result"
    }
   ],
   "source": [
    "festivales_genre = pd.read_csv(\n",
    "    r'C:\\Users\\34711\\Desktop\\Practica OpenData\\festivales_genero_definitivo.csv', sep=',')\n",
    "\n",
    "festivales_genre = festivales_genre.assign(\n",
    "    day = festivales_genre.event_dates.apply(lambda x: x.split(' ')[0]))\n",
    "\n",
    "festivales_genre = festivales_genre.assign(\n",
    "    month = festivales_genre.event_dates.apply(lambda x: x.split(' ')[1]))\n",
    "\n",
    "festivales_genre = festivales_genre.assign(\n",
    "    month = festivales_genre.month.map(months_to_numbers))\n",
    "\n",
    "festivales_genre = festivales_genre.assign(\n",
    "    year = festivales_genre.event_dates.apply(lambda x: x.split(' ')[-1]))\n",
    "\n",
    "\n",
    "festivales_genre = festivales_genre.assign(\n",
    "    formated_date=festivales_genre.year.astype(str) + \n",
    "    '-' + festivales_genre.month.astype(str) + \n",
    "    '-' + festivales_genre.day.astype(str))\n",
    "\n",
    "\n",
    "festivales_genre =festivales_genre.assign(\n",
    "    event_dates=festivales_genre.event_dates.apply(replace_month))\n",
    "\n",
    "festivales_genre = festivales_genre.assign(\n",
    "    event_prices=festivales_genre.event_prices.fillna('No se especifica'))\n",
    "\n",
    "festivales_genre = festivales_genre.assign(\n",
    "    city=festivales_genre.event_names.apply(search_city))\n",
    "\n",
    "festivales_genre = festivales_genre.assign(\n",
    "    genre=np.where(festivales_genre.genre.str.contains(\"autor\"), \"Canción de autor\", festivales_genre.genre))\n",
    "\n",
    "\n",
    "\n",
    "festivales_genre.to_csv(\"C:/Users/34711/Desktop/Practica OpenData/festivales_genre_clean.csv\", index=False)"
   ]
  },
  {
   "cell_type": "markdown",
   "id": "eb35d578-981f-41d1-bc84-9427d8627b17",
   "metadata": {},
   "source": [
    "##### festivales_concat"
   ]
  },
  {
   "cell_type": "markdown",
   "id": "6d767028-e9f7-4a38-977b-87b7ae9cbac1",
   "metadata": {},
   "source": [
    "Creamos un nuevo dataframe que incluirá todos los festivales que tengan 'city'."
   ]
  },
  {
   "cell_type": "code",
   "execution_count": null,
   "id": "196b4f60-eab3-4732-bb34-4e09a10122e9",
   "metadata": {},
   "outputs": [],
   "source": [
    "festivales_concat = pd.concat([festivales_city, festivales_genre],join=\"inner\",ignore_index=True)\n",
    "\n",
    "festivales_concat = festivales_concat[festivales_concat[\"city\"].notnull()]\n",
    "\n",
    "festivales_concat.to_csv(\"C:/Users/34711/Desktop/Practica OpenData/festivales_concat.csv\", index=False)"
   ]
  },
  {
   "cell_type": "markdown",
   "id": "a8ec099e-b942-4504-8a8a-2ee38f11de84",
   "metadata": {},
   "source": [
    "##### festivales_join"
   ]
  },
  {
   "cell_type": "markdown",
   "id": "404d0017-9563-4585-8da2-a45c5e8bb37c",
   "metadata": {},
   "source": [
    "Creamos un dataframe que incluye todos los festivales."
   ]
  },
  {
   "cell_type": "code",
   "execution_count": 7,
   "id": "f5249749-9bac-43f3-bee8-18ecdcb3cfb5",
   "metadata": {},
   "outputs": [
    {
     "data": {
      "text/plain": [
       "city                object\n",
       "event_names         object\n",
       "event_dates         object\n",
       "event_prices       float64\n",
       "event_followers      int64\n",
       "day                 object\n",
       "month                int64\n",
       "year                object\n",
       "formated_date       object\n",
       "dtype: object"
      ]
     },
     "execution_count": 7,
     "metadata": {},
     "output_type": "execute_result"
    }
   ],
   "source": [
    "festivales_join = pd.concat([festivales_city, festivales_genre],join=\"inner\",ignore_index=True)\n",
    "\n",
    "festivales_join = festivales_join.drop_duplicates()\n",
    "\n",
    "festivales_join = festivales_join[festivales_join.event_prices != 'No se especifica']\n",
    "\n",
    "festivales_join = festivales_join.assign(\n",
    "    event_prices=festivales_join.event_prices.astype(str).apply(lambda x: x.split(' ')[0]))\n",
    "\n",
    "festivales_join = festivales_join.assign(\n",
    "    event_prices=festivales_join.event_prices\n",
    "        .str.replace(',', '.')\n",
    "        .astype('float'))\n",
    "\n",
    "festivales_join.to_csv(\"C:/Users/34711/Desktop/Practica OpenData/festivales_join.csv\", index=False)"
   ]
  },
  {
   "cell_type": "markdown",
   "id": "102c26c1-fd66-4174-a77e-484c7f0cae8b",
   "metadata": {},
   "source": [
    "### Mapa con folium"
   ]
  },
  {
   "cell_type": "markdown",
   "id": "e1625fb4-90b3-43d4-83c1-3aadbde76dd0",
   "metadata": {},
   "source": [
    "Creamos unos diccionarios y listas que necesitamos para crear el mapa."
   ]
  },
  {
   "cell_type": "code",
   "execution_count": 524,
   "id": "561ba53e-bbd5-41ae-8de0-193edd595335",
   "metadata": {},
   "outputs": [],
   "source": [
    "cities = {\n",
    "    \"Alicante\": (38.3452, -0.4810),\n",
    "    \"Barcelona\": (41.3879, 2.1699),\n",
    "    \"Coruña\": (43.3623, -8.4115),\n",
    "    \"Bilbao\": (43.2630, -2.9350),\n",
    "    \"Granada\": (37.1765, -3.5979),\n",
    "    \"Málaga\": (36.7213, -4.4214),\n",
    "    \"Madrid\": (40.4168, -3.7038),\n",
    "    \"Oviedo\": (43.3619, -5.8494),\n",
    "    \"Sevilla\": (37.3891, -5.9845),\n",
    "    \"Valencia\": (39.4699, -0.3763),\n",
    "    \"Zaragoza\": (41.6488, -0.8891),\n",
    "}\n",
    "\n",
    "land_ranges = [(36.0, 43.8, -9.5, 4.5)]\n",
    "\n",
    "colors =  [\"red\", \"darkblue\", \"yellow\", \"cadetblue\", \"orange\", \"darkgreen\", \n",
    "           \"purple\", \"lightred\", \"steelblue\", \"green\", \"darkred\", \n",
    "           \"beige\", \"black\", \"gray\", \"lightblue\"]\n",
    "\n",
    "colors_fancy = [\n",
    "    \"green\",\n",
    "    \"orange\",\n",
    "    \"blue\",\n",
    "    \"lightblue\",\n",
    "    \"darkgreen\",\n",
    "    \"pink\",\n",
    "    \"darkblue\",\n",
    "    \"lightred\",\n",
    "    \"purple\",\n",
    "    \"gray\",\n",
    "    \"cadetblue\",\n",
    "    \"beige\",\n",
    "    \"darkred\",\n",
    "    \"darkpurple\"]\n"
   ]
  },
  {
   "cell_type": "markdown",
   "id": "4fcfedbb-f8eb-4f5b-8e32-bf5f74c4245b",
   "metadata": {},
   "source": [
    "Vamos a crear los marcadores en el mapa con un jitter para que no caigan todos en el mismo sitio, para ellos creamos dos funciones:\n",
    "- is_in_range(coord, ranges): para asegurar que los puntos no caigan en el mar.\n",
    "- add_jitter(coord, ranges, jitter_amount=0.01): añade jitter dentro del rango.\n"
   ]
  },
  {
   "cell_type": "code",
   "execution_count": 526,
   "id": "6a1a1950-337f-4323-b0cd-b083297225a8",
   "metadata": {},
   "outputs": [],
   "source": [
    "def is_in_range(coord, ranges):\n",
    "    lat, lon = coord\n",
    "    for lat_min, lat_max, lon_min, lon_max in ranges:\n",
    "        if lat_min <= lat <= lat_max and lon_min <= lon <= lon_max:\n",
    "            return True\n",
    "    return False\n",
    "    \n",
    "def add_jitter(coord, ranges, jitter_amount=0.01):\n",
    "    while True:\n",
    "        coord_jitter = (coord[0] + random.uniform(-jitter_amount, jitter_amount), coord[1] + random.uniform(-jitter_amount, jitter_amount)) \n",
    "        if is_in_range(coord_jitter, ranges):\n",
    "            return coord_jitter"
   ]
  },
  {
   "cell_type": "markdown",
   "id": "0b66908f-594a-42d5-b80d-3b14c1af0f0d",
   "metadata": {},
   "source": [
    "Creamos el mapa"
   ]
  },
  {
   "cell_type": "code",
   "execution_count": 305,
   "id": "044203c8-657e-4510-afea-83bec44ef058",
   "metadata": {
    "scrolled": true
   },
   "outputs": [],
   "source": [
    "centro_espanya = [40.0, -3.7]\n",
    "\n",
    "mapa = folium.Map(location=centro_espanya, zoom_start=6)\n",
    "\n",
    "for i, event in enumerate(festivales_concat.event_names):\n",
    "    city = festivales_concat[festivales_concat['event_names']==event]['city'].iloc[0]\n",
    "    coords = cities[f'{city}']\n",
    "    coords_jitter = add_jitter(coords, land_ranges, jitter_amount=0.15) \n",
    "    folium.Marker(\n",
    "        location=coords_jitter,\n",
    "        popup=f\"{event}<br>{city}.\",\n",
    "        tooltip=f\"{event}<br>{city}.\",\n",
    "        icon=folium.Icon(color=colors_fancy[i % len(colors_fancy)])).add_to(mapa)\n",
    "\n",
    "\n",
    "mapa\n",
    "map_html = \"mapa.html\"\n",
    "mapa.save(map_html)"
   ]
  },
  {
   "cell_type": "markdown",
   "id": "3ba4e1e0-24a4-469e-abf1-f6fde285d2c6",
   "metadata": {},
   "source": [
    "Para asegurarnos que se guarda bien codificado:"
   ]
  },
  {
   "cell_type": "code",
   "execution_count": 307,
   "id": "ef9812c2-9f66-4a64-9ce7-9500d23559ef",
   "metadata": {},
   "outputs": [],
   "source": [
    "with open(map_html, \"r\", encoding=\"utf-8\") as f:\n",
    "    mapa_html = f.read()\n",
    "\n",
    "mapa_html = mapa_html.replace('<head>', '<head>\\n    <meta charset=\"UTF-8\">')\n",
    "\n",
    "with open(map_html, \"w\", encoding=\"utf-8\") as f:\n",
    "    f.write(mapa_html)\n"
   ]
  },
  {
   "cell_type": "markdown",
   "id": "fe108bfb-ec11-4df0-9c19-ea4754bcfd86",
   "metadata": {},
   "source": [
    "### Generar gráficos con plotly"
   ]
  },
  {
   "cell_type": "markdown",
   "id": "04f2b68a-8682-471b-a269-961c73740f3a",
   "metadata": {},
   "source": [
    "##### Limpieza de datos para los gráficos"
   ]
  },
  {
   "cell_type": "code",
   "execution_count": 9,
   "id": "169134e8-8c61-44ed-955d-4531a533c63e",
   "metadata": {},
   "outputs": [],
   "source": [
    "festivales_join = festivales_join.assign(\n",
    "    month = festivales_join.month.map(numbers_to_months))\n",
    "\n",
    "festivales_concat_graf = festivales_concat[festivales_concat.event_prices != 'No se especifica']\n",
    "festivales_concat_graf = festivales_concat_graf.assign(\n",
    "    event_prices=festivales_concat_graf.event_prices.astype(str).apply(lambda x: x.split(' ')[0]))\n",
    "\n",
    "festivales_concat_graf = festivales_concat_graf.assign(\n",
    "    event_prices=festivales_concat_graf.event_prices\n",
    "        .str.replace(',', '.')\n",
    "        .astype('float'))"
   ]
  },
  {
   "cell_type": "markdown",
   "id": "22ce3a59-9328-4b5f-a136-2017e8518458",
   "metadata": {},
   "source": [
    "La idea es crear gráficos comparando los precios y los seguidores de los festivales por mes y por ciudad."
   ]
  },
  {
   "cell_type": "markdown",
   "id": "5ee1825e-5547-4ed7-b406-0ba2c5664c97",
   "metadata": {},
   "source": [
    "Para ello vamos a crear una función que nos permita generar los graficos introduciendo el dataframe, la columna y el mes o la ciudad."
   ]
  },
  {
   "cell_type": "code",
   "execution_count": 137,
   "id": "0690efb4-5fcd-407a-81a7-3ee9216b85db",
   "metadata": {},
   "outputs": [],
   "source": [
    "def generate_graphics(festivales_join,column,option):\n",
    "    #filtramos el dataframe por la opcion de la columna\n",
    "    festivales_filtered = festivales_join[festivales_join[column] == option]\n",
    "    festivales_filtered = festivales_filtered.drop_duplicates(subset='event_names')\n",
    "\n",
    "    festivales_filtered = festivales_filtered.sort_values('formated_date')\n",
    "    \n",
    "    # Crear un índice numérico para ordenar los festivales por fecha\n",
    "    festivales_filtered['x_index'] = np.arange(len(festivales_filtered))\n",
    "    festivales_filtered = festivales_filtered.sort_values('x_index')\n",
    "\n",
    "    max_followers = int(max(festivales_filtered.event_followers))\n",
    "    step_followers = int(max_followers/10) + 1\n",
    "    tickvals_followers=list(range(0, max_followers + step_followers, step_followers))\n",
    "    ticktext_followers = [i for i in tickvals_followers]\n",
    "\n",
    "    bar_trace = go.Bar(\n",
    "        x=festivales_filtered['event_names'], \n",
    "        y=festivales_filtered['event_prices'],\n",
    "        name='Precio en €', \n",
    "        marker_color='rgba(50, 150, 250, 0.6)',\n",
    "        opacity=0.6\n",
    "    )\n",
    "    \n",
    "    line_trace = go.Scatter(\n",
    "    x=festivales_filtered['event_names'],\n",
    "    y=festivales_filtered['event_followers'],\n",
    "    name='Followers', \n",
    "    mode='lines+markers',\n",
    "    line=dict(color='rgba(255, 99, 132, 0.8)', width=2),\n",
    "    marker=dict(size=10, color='rgba(255, 99, 132, 0.8)', symbol='circle'),\n",
    "    yaxis='y2',\n",
    "    connectgaps=True\n",
    "    )\n",
    "\n",
    "    fig = go.Figure(data=[bar_trace, line_trace])\n",
    "\n",
    "    fig.update_layout(\n",
    "    title=f'Comparación precios y followers en {option}',\n",
    "    xaxis_title='Festivales',\n",
    "    plot_bgcolor='rgba(240, 240, 240, 0.95)',\n",
    "    legend=dict(\n",
    "        x=1.15,\n",
    "        y=1.0,\n",
    "        xanchor='left',\n",
    "        yanchor='top',\n",
    "        bgcolor='rgba(255, 255, 255, 0.5)',\n",
    "        bordercolor='black',\n",
    "        borderwidth=1\n",
    "    ),\n",
    "    font=dict(\n",
    "        family=\"Arial, sans-serif\", \n",
    "        size=14, \n",
    "        color=\"black\"\n",
    "    ),\n",
    "    xaxis=dict( \n",
    "        showgrid=True,\n",
    "        zeroline=True,\n",
    "        showticklabels=False,\n",
    "        showline=True,\n",
    "        linecolor='black'\n",
    "    ),\n",
    "    yaxis=dict(\n",
    "        title='Precio en €',\n",
    "        showgrid=True,\n",
    "        zeroline=True,\n",
    "        showline=True,\n",
    "        linecolor='black'\n",
    "    ),\n",
    "    yaxis2=dict(\n",
    "        title='Followers', \n",
    "        overlaying='y',\n",
    "        side='right',\n",
    "        showgrid=False,  \n",
    "        tickvals=tickvals_followers,\n",
    "        ticktext = ticktext_followers,\n",
    "        showline=True, \n",
    "        linecolor='black'\n",
    "     )\n",
    "     )\n",
    "    return fig\n"
   ]
  },
  {
   "cell_type": "markdown",
   "id": "cf306e48-89b0-41f3-9d13-7b8befe07f39",
   "metadata": {},
   "source": [
    "Un ejemplo de la función:"
   ]
  },
  {
   "cell_type": "code",
   "execution_count": 139,
   "id": "774ef15f-4ba5-4191-a357-a41df04c203c",
   "metadata": {},
   "outputs": [
    {
     "data": {
      "application/vnd.plotly.v1+json": {
       "config": {
        "plotlyServerURL": "https://plot.ly"
       },
       "data": [
        {
         "marker": {
          "color": "rgba(50, 150, 250, 0.6)"
         },
         "name": "Precio en €",
         "opacity": 0.6,
         "type": "bar",
         "x": [
          "ROCK TRIO - Bon Jovi, Queen & Aerosmith (Alicante)",
          "Spring Festival 2025",
          "Rabolagartija Festival 2025",
          "Leyendas del Rock 2025"
         ],
         "y": [
          15,
          49.99,
          59,
          168
         ]
        },
        {
         "connectgaps": true,
         "line": {
          "color": "rgba(255, 99, 132, 0.8)",
          "width": 2
         },
         "marker": {
          "color": "rgba(255, 99, 132, 0.8)",
          "size": 10,
          "symbol": "circle"
         },
         "mode": "lines+markers",
         "name": "Followers",
         "type": "scatter",
         "x": [
          "ROCK TRIO - Bon Jovi, Queen & Aerosmith (Alicante)",
          "Spring Festival 2025",
          "Rabolagartija Festival 2025",
          "Leyendas del Rock 2025"
         ],
         "y": [
          18,
          202,
          39,
          71
         ],
         "yaxis": "y2"
        }
       ],
       "layout": {
        "font": {
         "color": "black",
         "family": "Arial, sans-serif",
         "size": 14
        },
        "height": 600,
        "legend": {
         "bgcolor": "rgba(255, 255, 255, 0.5)",
         "bordercolor": "black",
         "borderwidth": 1,
         "x": 1.15,
         "xanchor": "left",
         "y": 1,
         "yanchor": "top"
        },
        "plot_bgcolor": "rgba(240, 240, 240, 0.95)",
        "template": {
         "data": {
          "bar": [
           {
            "error_x": {
             "color": "#2a3f5f"
            },
            "error_y": {
             "color": "#2a3f5f"
            },
            "marker": {
             "line": {
              "color": "#E5ECF6",
              "width": 0.5
             },
             "pattern": {
              "fillmode": "overlay",
              "size": 10,
              "solidity": 0.2
             }
            },
            "type": "bar"
           }
          ],
          "barpolar": [
           {
            "marker": {
             "line": {
              "color": "#E5ECF6",
              "width": 0.5
             },
             "pattern": {
              "fillmode": "overlay",
              "size": 10,
              "solidity": 0.2
             }
            },
            "type": "barpolar"
           }
          ],
          "carpet": [
           {
            "aaxis": {
             "endlinecolor": "#2a3f5f",
             "gridcolor": "white",
             "linecolor": "white",
             "minorgridcolor": "white",
             "startlinecolor": "#2a3f5f"
            },
            "baxis": {
             "endlinecolor": "#2a3f5f",
             "gridcolor": "white",
             "linecolor": "white",
             "minorgridcolor": "white",
             "startlinecolor": "#2a3f5f"
            },
            "type": "carpet"
           }
          ],
          "choropleth": [
           {
            "colorbar": {
             "outlinewidth": 0,
             "ticks": ""
            },
            "type": "choropleth"
           }
          ],
          "contour": [
           {
            "colorbar": {
             "outlinewidth": 0,
             "ticks": ""
            },
            "colorscale": [
             [
              0,
              "#0d0887"
             ],
             [
              0.1111111111111111,
              "#46039f"
             ],
             [
              0.2222222222222222,
              "#7201a8"
             ],
             [
              0.3333333333333333,
              "#9c179e"
             ],
             [
              0.4444444444444444,
              "#bd3786"
             ],
             [
              0.5555555555555556,
              "#d8576b"
             ],
             [
              0.6666666666666666,
              "#ed7953"
             ],
             [
              0.7777777777777778,
              "#fb9f3a"
             ],
             [
              0.8888888888888888,
              "#fdca26"
             ],
             [
              1,
              "#f0f921"
             ]
            ],
            "type": "contour"
           }
          ],
          "contourcarpet": [
           {
            "colorbar": {
             "outlinewidth": 0,
             "ticks": ""
            },
            "type": "contourcarpet"
           }
          ],
          "heatmap": [
           {
            "colorbar": {
             "outlinewidth": 0,
             "ticks": ""
            },
            "colorscale": [
             [
              0,
              "#0d0887"
             ],
             [
              0.1111111111111111,
              "#46039f"
             ],
             [
              0.2222222222222222,
              "#7201a8"
             ],
             [
              0.3333333333333333,
              "#9c179e"
             ],
             [
              0.4444444444444444,
              "#bd3786"
             ],
             [
              0.5555555555555556,
              "#d8576b"
             ],
             [
              0.6666666666666666,
              "#ed7953"
             ],
             [
              0.7777777777777778,
              "#fb9f3a"
             ],
             [
              0.8888888888888888,
              "#fdca26"
             ],
             [
              1,
              "#f0f921"
             ]
            ],
            "type": "heatmap"
           }
          ],
          "heatmapgl": [
           {
            "colorbar": {
             "outlinewidth": 0,
             "ticks": ""
            },
            "colorscale": [
             [
              0,
              "#0d0887"
             ],
             [
              0.1111111111111111,
              "#46039f"
             ],
             [
              0.2222222222222222,
              "#7201a8"
             ],
             [
              0.3333333333333333,
              "#9c179e"
             ],
             [
              0.4444444444444444,
              "#bd3786"
             ],
             [
              0.5555555555555556,
              "#d8576b"
             ],
             [
              0.6666666666666666,
              "#ed7953"
             ],
             [
              0.7777777777777778,
              "#fb9f3a"
             ],
             [
              0.8888888888888888,
              "#fdca26"
             ],
             [
              1,
              "#f0f921"
             ]
            ],
            "type": "heatmapgl"
           }
          ],
          "histogram": [
           {
            "marker": {
             "pattern": {
              "fillmode": "overlay",
              "size": 10,
              "solidity": 0.2
             }
            },
            "type": "histogram"
           }
          ],
          "histogram2d": [
           {
            "colorbar": {
             "outlinewidth": 0,
             "ticks": ""
            },
            "colorscale": [
             [
              0,
              "#0d0887"
             ],
             [
              0.1111111111111111,
              "#46039f"
             ],
             [
              0.2222222222222222,
              "#7201a8"
             ],
             [
              0.3333333333333333,
              "#9c179e"
             ],
             [
              0.4444444444444444,
              "#bd3786"
             ],
             [
              0.5555555555555556,
              "#d8576b"
             ],
             [
              0.6666666666666666,
              "#ed7953"
             ],
             [
              0.7777777777777778,
              "#fb9f3a"
             ],
             [
              0.8888888888888888,
              "#fdca26"
             ],
             [
              1,
              "#f0f921"
             ]
            ],
            "type": "histogram2d"
           }
          ],
          "histogram2dcontour": [
           {
            "colorbar": {
             "outlinewidth": 0,
             "ticks": ""
            },
            "colorscale": [
             [
              0,
              "#0d0887"
             ],
             [
              0.1111111111111111,
              "#46039f"
             ],
             [
              0.2222222222222222,
              "#7201a8"
             ],
             [
              0.3333333333333333,
              "#9c179e"
             ],
             [
              0.4444444444444444,
              "#bd3786"
             ],
             [
              0.5555555555555556,
              "#d8576b"
             ],
             [
              0.6666666666666666,
              "#ed7953"
             ],
             [
              0.7777777777777778,
              "#fb9f3a"
             ],
             [
              0.8888888888888888,
              "#fdca26"
             ],
             [
              1,
              "#f0f921"
             ]
            ],
            "type": "histogram2dcontour"
           }
          ],
          "mesh3d": [
           {
            "colorbar": {
             "outlinewidth": 0,
             "ticks": ""
            },
            "type": "mesh3d"
           }
          ],
          "parcoords": [
           {
            "line": {
             "colorbar": {
              "outlinewidth": 0,
              "ticks": ""
             }
            },
            "type": "parcoords"
           }
          ],
          "pie": [
           {
            "automargin": true,
            "type": "pie"
           }
          ],
          "scatter": [
           {
            "fillpattern": {
             "fillmode": "overlay",
             "size": 10,
             "solidity": 0.2
            },
            "type": "scatter"
           }
          ],
          "scatter3d": [
           {
            "line": {
             "colorbar": {
              "outlinewidth": 0,
              "ticks": ""
             }
            },
            "marker": {
             "colorbar": {
              "outlinewidth": 0,
              "ticks": ""
             }
            },
            "type": "scatter3d"
           }
          ],
          "scattercarpet": [
           {
            "marker": {
             "colorbar": {
              "outlinewidth": 0,
              "ticks": ""
             }
            },
            "type": "scattercarpet"
           }
          ],
          "scattergeo": [
           {
            "marker": {
             "colorbar": {
              "outlinewidth": 0,
              "ticks": ""
             }
            },
            "type": "scattergeo"
           }
          ],
          "scattergl": [
           {
            "marker": {
             "colorbar": {
              "outlinewidth": 0,
              "ticks": ""
             }
            },
            "type": "scattergl"
           }
          ],
          "scattermapbox": [
           {
            "marker": {
             "colorbar": {
              "outlinewidth": 0,
              "ticks": ""
             }
            },
            "type": "scattermapbox"
           }
          ],
          "scatterpolar": [
           {
            "marker": {
             "colorbar": {
              "outlinewidth": 0,
              "ticks": ""
             }
            },
            "type": "scatterpolar"
           }
          ],
          "scatterpolargl": [
           {
            "marker": {
             "colorbar": {
              "outlinewidth": 0,
              "ticks": ""
             }
            },
            "type": "scatterpolargl"
           }
          ],
          "scatterternary": [
           {
            "marker": {
             "colorbar": {
              "outlinewidth": 0,
              "ticks": ""
             }
            },
            "type": "scatterternary"
           }
          ],
          "surface": [
           {
            "colorbar": {
             "outlinewidth": 0,
             "ticks": ""
            },
            "colorscale": [
             [
              0,
              "#0d0887"
             ],
             [
              0.1111111111111111,
              "#46039f"
             ],
             [
              0.2222222222222222,
              "#7201a8"
             ],
             [
              0.3333333333333333,
              "#9c179e"
             ],
             [
              0.4444444444444444,
              "#bd3786"
             ],
             [
              0.5555555555555556,
              "#d8576b"
             ],
             [
              0.6666666666666666,
              "#ed7953"
             ],
             [
              0.7777777777777778,
              "#fb9f3a"
             ],
             [
              0.8888888888888888,
              "#fdca26"
             ],
             [
              1,
              "#f0f921"
             ]
            ],
            "type": "surface"
           }
          ],
          "table": [
           {
            "cells": {
             "fill": {
              "color": "#EBF0F8"
             },
             "line": {
              "color": "white"
             }
            },
            "header": {
             "fill": {
              "color": "#C8D4E3"
             },
             "line": {
              "color": "white"
             }
            },
            "type": "table"
           }
          ]
         },
         "layout": {
          "annotationdefaults": {
           "arrowcolor": "#2a3f5f",
           "arrowhead": 0,
           "arrowwidth": 1
          },
          "autotypenumbers": "strict",
          "coloraxis": {
           "colorbar": {
            "outlinewidth": 0,
            "ticks": ""
           }
          },
          "colorscale": {
           "diverging": [
            [
             0,
             "#8e0152"
            ],
            [
             0.1,
             "#c51b7d"
            ],
            [
             0.2,
             "#de77ae"
            ],
            [
             0.3,
             "#f1b6da"
            ],
            [
             0.4,
             "#fde0ef"
            ],
            [
             0.5,
             "#f7f7f7"
            ],
            [
             0.6,
             "#e6f5d0"
            ],
            [
             0.7,
             "#b8e186"
            ],
            [
             0.8,
             "#7fbc41"
            ],
            [
             0.9,
             "#4d9221"
            ],
            [
             1,
             "#276419"
            ]
           ],
           "sequential": [
            [
             0,
             "#0d0887"
            ],
            [
             0.1111111111111111,
             "#46039f"
            ],
            [
             0.2222222222222222,
             "#7201a8"
            ],
            [
             0.3333333333333333,
             "#9c179e"
            ],
            [
             0.4444444444444444,
             "#bd3786"
            ],
            [
             0.5555555555555556,
             "#d8576b"
            ],
            [
             0.6666666666666666,
             "#ed7953"
            ],
            [
             0.7777777777777778,
             "#fb9f3a"
            ],
            [
             0.8888888888888888,
             "#fdca26"
            ],
            [
             1,
             "#f0f921"
            ]
           ],
           "sequentialminus": [
            [
             0,
             "#0d0887"
            ],
            [
             0.1111111111111111,
             "#46039f"
            ],
            [
             0.2222222222222222,
             "#7201a8"
            ],
            [
             0.3333333333333333,
             "#9c179e"
            ],
            [
             0.4444444444444444,
             "#bd3786"
            ],
            [
             0.5555555555555556,
             "#d8576b"
            ],
            [
             0.6666666666666666,
             "#ed7953"
            ],
            [
             0.7777777777777778,
             "#fb9f3a"
            ],
            [
             0.8888888888888888,
             "#fdca26"
            ],
            [
             1,
             "#f0f921"
            ]
           ]
          },
          "colorway": [
           "#636efa",
           "#EF553B",
           "#00cc96",
           "#ab63fa",
           "#FFA15A",
           "#19d3f3",
           "#FF6692",
           "#B6E880",
           "#FF97FF",
           "#FECB52"
          ],
          "font": {
           "color": "#2a3f5f"
          },
          "geo": {
           "bgcolor": "white",
           "lakecolor": "white",
           "landcolor": "#E5ECF6",
           "showlakes": true,
           "showland": true,
           "subunitcolor": "white"
          },
          "hoverlabel": {
           "align": "left"
          },
          "hovermode": "closest",
          "mapbox": {
           "style": "light"
          },
          "paper_bgcolor": "white",
          "plot_bgcolor": "#E5ECF6",
          "polar": {
           "angularaxis": {
            "gridcolor": "white",
            "linecolor": "white",
            "ticks": ""
           },
           "bgcolor": "#E5ECF6",
           "radialaxis": {
            "gridcolor": "white",
            "linecolor": "white",
            "ticks": ""
           }
          },
          "scene": {
           "xaxis": {
            "backgroundcolor": "#E5ECF6",
            "gridcolor": "white",
            "gridwidth": 2,
            "linecolor": "white",
            "showbackground": true,
            "ticks": "",
            "zerolinecolor": "white"
           },
           "yaxis": {
            "backgroundcolor": "#E5ECF6",
            "gridcolor": "white",
            "gridwidth": 2,
            "linecolor": "white",
            "showbackground": true,
            "ticks": "",
            "zerolinecolor": "white"
           },
           "zaxis": {
            "backgroundcolor": "#E5ECF6",
            "gridcolor": "white",
            "gridwidth": 2,
            "linecolor": "white",
            "showbackground": true,
            "ticks": "",
            "zerolinecolor": "white"
           }
          },
          "shapedefaults": {
           "line": {
            "color": "#2a3f5f"
           }
          },
          "ternary": {
           "aaxis": {
            "gridcolor": "white",
            "linecolor": "white",
            "ticks": ""
           },
           "baxis": {
            "gridcolor": "white",
            "linecolor": "white",
            "ticks": ""
           },
           "bgcolor": "#E5ECF6",
           "caxis": {
            "gridcolor": "white",
            "linecolor": "white",
            "ticks": ""
           }
          },
          "title": {
           "x": 0.05
          },
          "xaxis": {
           "automargin": true,
           "gridcolor": "white",
           "linecolor": "white",
           "ticks": "",
           "title": {
            "standoff": 15
           },
           "zerolinecolor": "white",
           "zerolinewidth": 2
          },
          "yaxis": {
           "automargin": true,
           "gridcolor": "white",
           "linecolor": "white",
           "ticks": "",
           "title": {
            "standoff": 15
           },
           "zerolinecolor": "white",
           "zerolinewidth": 2
          }
         }
        },
        "title": {
         "text": "Comparación precios y followers en Alicante"
        },
        "width": 600,
        "xaxis": {
         "autorange": true,
         "linecolor": "black",
         "range": [
          -0.5,
          3.5
         ],
         "showgrid": true,
         "showline": true,
         "showticklabels": false,
         "title": {
          "text": "Festivales"
         },
         "type": "category",
         "zeroline": true
        },
        "yaxis": {
         "autorange": true,
         "linecolor": "black",
         "range": [
          0,
          176.8421052631579
         ],
         "showgrid": true,
         "showline": true,
         "title": {
          "text": "Precio en €"
         },
         "type": "linear",
         "zeroline": true
        },
        "yaxis2": {
         "autorange": true,
         "linecolor": "black",
         "overlaying": "y",
         "range": [
          4.281805745554037,
          215.71819425444596
         ],
         "showgrid": false,
         "showline": true,
         "side": "right",
         "ticktext": [
          0,
          21,
          42,
          63,
          84,
          105,
          126,
          147,
          168,
          189,
          210
         ],
         "tickvals": [
          0,
          21,
          42,
          63,
          84,
          105,
          126,
          147,
          168,
          189,
          210
         ],
         "title": {
          "text": "Followers"
         },
         "type": "linear"
        }
       }
      },
      "image/png": "[encoded data removed]",
      "text/html": [
       "<div>                            <div id=\"c6e4884c-3463-4aa5-9bc2-880f3c39485c\" class=\"plotly-graph-div\" style=\"height:600px; width:600px;\"></div>            <script type=\"text/javascript\">                require([\"plotly\"], function(Plotly) {                    window.PLOTLYENV=window.PLOTLYENV || {};                                    if (document.getElementById(\"c6e4884c-3463-4aa5-9bc2-880f3c39485c\")) {                    Plotly.newPlot(                        \"c6e4884c-3463-4aa5-9bc2-880f3c39485c\",                        [{\"marker\":{\"color\":\"rgba(50, 150, 250, 0.6)\"},\"name\":\"Precio en \\u20ac\",\"opacity\":0.6,\"x\":[\"ROCK TRIO - Bon Jovi, Queen & Aerosmith (Alicante)\",\"Spring Festival 2025\",\"Rabolagartija Festival 2025\",\"Leyendas del Rock 2025\"],\"y\":[15.0,49.99,59.0,168.0],\"type\":\"bar\"},{\"connectgaps\":true,\"line\":{\"color\":\"rgba(255, 99, 132, 0.8)\",\"width\":2},\"marker\":{\"color\":\"rgba(255, 99, 132, 0.8)\",\"size\":10,\"symbol\":\"circle\"},\"mode\":\"lines+markers\",\"name\":\"Followers\",\"x\":[\"ROCK TRIO - Bon Jovi, Queen & Aerosmith (Alicante)\",\"Spring Festival 2025\",\"Rabolagartija Festival 2025\",\"Leyendas del Rock 2025\"],\"y\":[18,202,39,71],\"yaxis\":\"y2\",\"type\":\"scatter\"}],                        {\"template\":{\"data\":{\"histogram2dcontour\":[{\"type\":\"histogram2dcontour\",\"colorbar\":{\"outlinewidth\":0,\"ticks\":\"\"},\"colorscale\":[[0.0,\"#0d0887\"],[0.1111111111111111,\"#46039f\"],[0.2222222222222222,\"#7201a8\"],[0.3333333333333333,\"#9c179e\"],[0.4444444444444444,\"#bd3786\"],[0.5555555555555556,\"#d8576b\"],[0.6666666666666666,\"#ed7953\"],[0.7777777777777778,\"#fb9f3a\"],[0.8888888888888888,\"#fdca26\"],[1.0,\"#f0f921\"]]}],\"choropleth\":[{\"type\":\"choropleth\",\"colorbar\":{\"outlinewidth\":0,\"ticks\":\"\"}}],\"histogram2d\":[{\"type\":\"histogram2d\",\"colorbar\":{\"outlinewidth\":0,\"ticks\":\"\"},\"colorscale\":[[0.0,\"#0d0887\"],[0.1111111111111111,\"#46039f\"],[0.2222222222222222,\"#7201a8\"],[0.3333333333333333,\"#9c179e\"],[0.4444444444444444,\"#bd3786\"],[0.5555555555555556,\"#d8576b\"],[0.6666666666666666,\"#ed7953\"],[0.7777777777777778,\"#fb9f3a\"],[0.8888888888888888,\"#fdca26\"],[1.0,\"#f0f921\"]]}],\"heatmap\":[{\"type\":\"heatmap\",\"colorbar\":{\"outlinewidth\":0,\"ticks\":\"\"},\"colorscale\":[[0.0,\"#0d0887\"],[0.1111111111111111,\"#46039f\"],[0.2222222222222222,\"#7201a8\"],[0.3333333333333333,\"#9c179e\"],[0.4444444444444444,\"#bd3786\"],[0.5555555555555556,\"#d8576b\"],[0.6666666666666666,\"#ed7953\"],[0.7777777777777778,\"#fb9f3a\"],[0.8888888888888888,\"#fdca26\"],[1.0,\"#f0f921\"]]}],\"heatmapgl\":[{\"type\":\"heatmapgl\",\"colorbar\":{\"outlinewidth\":0,\"ticks\":\"\"},\"colorscale\":[[0.0,\"#0d0887\"],[0.1111111111111111,\"#46039f\"],[0.2222222222222222,\"#7201a8\"],[0.3333333333333333,\"#9c179e\"],[0.4444444444444444,\"#bd3786\"],[0.5555555555555556,\"#d8576b\"],[0.6666666666666666,\"#ed7953\"],[0.7777777777777778,\"#fb9f3a\"],[0.8888888888888888,\"#fdca26\"],[1.0,\"#f0f921\"]]}],\"contourcarpet\":[{\"type\":\"contourcarpet\",\"colorbar\":{\"outlinewidth\":0,\"ticks\":\"\"}}],\"contour\":[{\"type\":\"contour\",\"colorbar\":{\"outlinewidth\":0,\"ticks\":\"\"},\"colorscale\":[[0.0,\"#0d0887\"],[0.1111111111111111,\"#46039f\"],[0.2222222222222222,\"#7201a8\"],[0.3333333333333333,\"#9c179e\"],[0.4444444444444444,\"#bd3786\"],[0.5555555555555556,\"#d8576b\"],[0.6666666666666666,\"#ed7953\"],[0.7777777777777778,\"#fb9f3a\"],[0.8888888888888888,\"#fdca26\"],[1.0,\"#f0f921\"]]}],\"surface\":[{\"type\":\"surface\",\"colorbar\":{\"outlinewidth\":0,\"ticks\":\"\"},\"colorscale\":[[0.0,\"#0d0887\"],[0.1111111111111111,\"#46039f\"],[0.2222222222222222,\"#7201a8\"],[0.3333333333333333,\"#9c179e\"],[0.4444444444444444,\"#bd3786\"],[0.5555555555555556,\"#d8576b\"],[0.6666666666666666,\"#ed7953\"],[0.7777777777777778,\"#fb9f3a\"],[0.8888888888888888,\"#fdca26\"],[1.0,\"#f0f921\"]]}],\"mesh3d\":[{\"type\":\"mesh3d\",\"colorbar\":{\"outlinewidth\":0,\"ticks\":\"\"}}],\"scatter\":[{\"fillpattern\":{\"fillmode\":\"overlay\",\"size\":10,\"solidity\":0.2},\"type\":\"scatter\"}],\"parcoords\":[{\"type\":\"parcoords\",\"line\":{\"colorbar\":{\"outlinewidth\":0,\"ticks\":\"\"}}}],\"scatterpolargl\":[{\"type\":\"scatterpolargl\",\"marker\":{\"colorbar\":{\"outlinewidth\":0,\"ticks\":\"\"}}}],\"bar\":[{\"error_x\":{\"color\":\"#2a3f5f\"},\"error_y\":{\"color\":\"#2a3f5f\"},\"marker\":{\"line\":{\"color\":\"#E5ECF6\",\"width\":0.5},\"pattern\":{\"fillmode\":\"overlay\",\"size\":10,\"solidity\":0.2}},\"type\":\"bar\"}],\"scattergeo\":[{\"type\":\"scattergeo\",\"marker\":{\"colorbar\":{\"outlinewidth\":0,\"ticks\":\"\"}}}],\"scatterpolar\":[{\"type\":\"scatterpolar\",\"marker\":{\"colorbar\":{\"outlinewidth\":0,\"ticks\":\"\"}}}],\"histogram\":[{\"marker\":{\"pattern\":{\"fillmode\":\"overlay\",\"size\":10,\"solidity\":0.2}},\"type\":\"histogram\"}],\"scattergl\":[{\"type\":\"scattergl\",\"marker\":{\"colorbar\":{\"outlinewidth\":0,\"ticks\":\"\"}}}],\"scatter3d\":[{\"type\":\"scatter3d\",\"line\":{\"colorbar\":{\"outlinewidth\":0,\"ticks\":\"\"}},\"marker\":{\"colorbar\":{\"outlinewidth\":0,\"ticks\":\"\"}}}],\"scattermapbox\":[{\"type\":\"scattermapbox\",\"marker\":{\"colorbar\":{\"outlinewidth\":0,\"ticks\":\"\"}}}],\"scatterternary\":[{\"type\":\"scatterternary\",\"marker\":{\"colorbar\":{\"outlinewidth\":0,\"ticks\":\"\"}}}],\"scattercarpet\":[{\"type\":\"scattercarpet\",\"marker\":{\"colorbar\":{\"outlinewidth\":0,\"ticks\":\"\"}}}],\"carpet\":[{\"aaxis\":{\"endlinecolor\":\"#2a3f5f\",\"gridcolor\":\"white\",\"linecolor\":\"white\",\"minorgridcolor\":\"white\",\"startlinecolor\":\"#2a3f5f\"},\"baxis\":{\"endlinecolor\":\"#2a3f5f\",\"gridcolor\":\"white\",\"linecolor\":\"white\",\"minorgridcolor\":\"white\",\"startlinecolor\":\"#2a3f5f\"},\"type\":\"carpet\"}],\"table\":[{\"cells\":{\"fill\":{\"color\":\"#EBF0F8\"},\"line\":{\"color\":\"white\"}},\"header\":{\"fill\":{\"color\":\"#C8D4E3\"},\"line\":{\"color\":\"white\"}},\"type\":\"table\"}],\"barpolar\":[{\"marker\":{\"line\":{\"color\":\"#E5ECF6\",\"width\":0.5},\"pattern\":{\"fillmode\":\"overlay\",\"size\":10,\"solidity\":0.2}},\"type\":\"barpolar\"}],\"pie\":[{\"automargin\":true,\"type\":\"pie\"}]},\"layout\":{\"autotypenumbers\":\"strict\",\"colorway\":[\"#636efa\",\"#EF553B\",\"#00cc96\",\"#ab63fa\",\"#FFA15A\",\"#19d3f3\",\"#FF6692\",\"#B6E880\",\"#FF97FF\",\"#FECB52\"],\"font\":{\"color\":\"#2a3f5f\"},\"hovermode\":\"closest\",\"hoverlabel\":{\"align\":\"left\"},\"paper_bgcolor\":\"white\",\"plot_bgcolor\":\"#E5ECF6\",\"polar\":{\"bgcolor\":\"#E5ECF6\",\"angularaxis\":{\"gridcolor\":\"white\",\"linecolor\":\"white\",\"ticks\":\"\"},\"radialaxis\":{\"gridcolor\":\"white\",\"linecolor\":\"white\",\"ticks\":\"\"}},\"ternary\":{\"bgcolor\":\"#E5ECF6\",\"aaxis\":{\"gridcolor\":\"white\",\"linecolor\":\"white\",\"ticks\":\"\"},\"baxis\":{\"gridcolor\":\"white\",\"linecolor\":\"white\",\"ticks\":\"\"},\"caxis\":{\"gridcolor\":\"white\",\"linecolor\":\"white\",\"ticks\":\"\"}},\"coloraxis\":{\"colorbar\":{\"outlinewidth\":0,\"ticks\":\"\"}},\"colorscale\":{\"sequential\":[[0.0,\"#0d0887\"],[0.1111111111111111,\"#46039f\"],[0.2222222222222222,\"#7201a8\"],[0.3333333333333333,\"#9c179e\"],[0.4444444444444444,\"#bd3786\"],[0.5555555555555556,\"#d8576b\"],[0.6666666666666666,\"#ed7953\"],[0.7777777777777778,\"#fb9f3a\"],[0.8888888888888888,\"#fdca26\"],[1.0,\"#f0f921\"]],\"sequentialminus\":[[0.0,\"#0d0887\"],[0.1111111111111111,\"#46039f\"],[0.2222222222222222,\"#7201a8\"],[0.3333333333333333,\"#9c179e\"],[0.4444444444444444,\"#bd3786\"],[0.5555555555555556,\"#d8576b\"],[0.6666666666666666,\"#ed7953\"],[0.7777777777777778,\"#fb9f3a\"],[0.8888888888888888,\"#fdca26\"],[1.0,\"#f0f921\"]],\"diverging\":[[0,\"#8e0152\"],[0.1,\"#c51b7d\"],[0.2,\"#de77ae\"],[0.3,\"#f1b6da\"],[0.4,\"#fde0ef\"],[0.5,\"#f7f7f7\"],[0.6,\"#e6f5d0\"],[0.7,\"#b8e186\"],[0.8,\"#7fbc41\"],[0.9,\"#4d9221\"],[1,\"#276419\"]]},\"xaxis\":{\"gridcolor\":\"white\",\"linecolor\":\"white\",\"ticks\":\"\",\"title\":{\"standoff\":15},\"zerolinecolor\":\"white\",\"automargin\":true,\"zerolinewidth\":2},\"yaxis\":{\"gridcolor\":\"white\",\"linecolor\":\"white\",\"ticks\":\"\",\"title\":{\"standoff\":15},\"zerolinecolor\":\"white\",\"automargin\":true,\"zerolinewidth\":2},\"scene\":{\"xaxis\":{\"backgroundcolor\":\"#E5ECF6\",\"gridcolor\":\"white\",\"linecolor\":\"white\",\"showbackground\":true,\"ticks\":\"\",\"zerolinecolor\":\"white\",\"gridwidth\":2},\"yaxis\":{\"backgroundcolor\":\"#E5ECF6\",\"gridcolor\":\"white\",\"linecolor\":\"white\",\"showbackground\":true,\"ticks\":\"\",\"zerolinecolor\":\"white\",\"gridwidth\":2},\"zaxis\":{\"backgroundcolor\":\"#E5ECF6\",\"gridcolor\":\"white\",\"linecolor\":\"white\",\"showbackground\":true,\"ticks\":\"\",\"zerolinecolor\":\"white\",\"gridwidth\":2}},\"shapedefaults\":{\"line\":{\"color\":\"#2a3f5f\"}},\"annotationdefaults\":{\"arrowcolor\":\"#2a3f5f\",\"arrowhead\":0,\"arrowwidth\":1},\"geo\":{\"bgcolor\":\"white\",\"landcolor\":\"#E5ECF6\",\"subunitcolor\":\"white\",\"showland\":true,\"showlakes\":true,\"lakecolor\":\"white\"},\"title\":{\"x\":0.05},\"mapbox\":{\"style\":\"light\"}}},\"legend\":{\"x\":1.15,\"y\":1.0,\"xanchor\":\"left\",\"yanchor\":\"top\",\"bgcolor\":\"rgba(255, 255, 255, 0.5)\",\"bordercolor\":\"black\",\"borderwidth\":1},\"font\":{\"family\":\"Arial, sans-serif\",\"size\":14,\"color\":\"black\"},\"xaxis\":{\"title\":{\"text\":\"Festivales\"},\"showgrid\":true,\"zeroline\":true,\"showticklabels\":false,\"showline\":true,\"linecolor\":\"black\"},\"yaxis\":{\"title\":{\"text\":\"Precio en \\u20ac\"},\"showgrid\":true,\"zeroline\":true,\"showline\":true,\"linecolor\":\"black\"},\"yaxis2\":{\"title\":{\"text\":\"Followers\"},\"overlaying\":\"y\",\"side\":\"right\",\"showgrid\":false,\"tickvals\":[0,21,42,63,84,105,126,147,168,189,210],\"ticktext\":[0,21,42,63,84,105,126,147,168,189,210],\"showline\":true,\"linecolor\":\"black\"},\"title\":{\"text\":\"Comparaci\\u00f3n precios y followers en Alicante\"},\"plot_bgcolor\":\"rgba(240, 240, 240, 0.95)\",\"width\":600,\"height\":600},                        {\"responsive\": true}                    ).then(function(){\n",
       "                            \n",
       "var gd = document.getElementById('c6e4884c-3463-4aa5-9bc2-880f3c39485c');\n",
       "var x = new MutationObserver(function (mutations, observer) {{\n",
       "        var display = window.getComputedStyle(gd).display;\n",
       "        if (!display || display === 'none') {{\n",
       "            console.log([gd, 'removed!']);\n",
       "            Plotly.purge(gd);\n",
       "            observer.disconnect();\n",
       "        }}\n",
       "}});\n",
       "\n",
       "// Listen for the removal of the full notebook cells\n",
       "var notebookContainer = gd.closest('#notebook-container');\n",
       "if (notebookContainer) {{\n",
       "    x.observe(notebookContainer, {childList: true});\n",
       "}}\n",
       "\n",
       "// Listen for the clearing of the current output cell\n",
       "var outputEl = gd.closest('.output');\n",
       "if (outputEl) {{\n",
       "    x.observe(outputEl, {childList: true});\n",
       "}}\n",
       "\n",
       "                        })                };                });            </script>        </div>"
      ]
     },
     "metadata": {},
     "output_type": "display_data"
    }
   ],
   "source": [
    "g =generate_graphics(festivales_concat_graf,'city','Alicante')\n",
    "g.update_layout(\n",
    "    width=600,  \n",
    "    height=600 \n",
    "    )\n"
   ]
  },
  {
   "cell_type": "markdown",
   "id": "237caed7-8ce0-437e-a14b-e23ef83f2b7c",
   "metadata": {},
   "source": [
    "Generamos un gráfico por mes"
   ]
  },
  {
   "cell_type": "code",
   "execution_count": 141,
   "id": "a5cd06ba-06e7-452b-88b5-57e2d9175f85",
   "metadata": {},
   "outputs": [],
   "source": [
    "for month in festivales_join.month:\n",
    "    graphic = generate_graphics(festivales_join,'month',month)\n",
    "    \n",
    "    graphic.update_layout(\n",
    "    width=600, \n",
    "    height=600\n",
    "    )\n",
    "    graphic.write_html(f\"graphics/grafico_{month}.html\")\n",
    "\n",
    "    \n",
    "    "
   ]
  },
  {
   "cell_type": "markdown",
   "id": "1e14a438-56be-4dbc-ae37-76f08c7e9eec",
   "metadata": {},
   "source": [
    "Creamos un gráfico por ciudad"
   ]
  },
  {
   "cell_type": "code",
   "execution_count": 143,
   "id": "c9af5fa5-6111-4610-be49-c299834d01ce",
   "metadata": {},
   "outputs": [],
   "source": [
    "for city in festivales_concat_graf.city.unique():\n",
    "    graphic = generate_graphics(festivales_concat_graf,'city',city)\n",
    "    \n",
    "    graphic.update_layout(\n",
    "    width=600,\n",
    "    height=600 \n",
    "    )\n",
    "    graphic.write_html(f\"graphics/grafico_{city}.html\")\n"
   ]
  },
  {
   "cell_type": "markdown",
   "id": "a7de4716-4302-438b-b04f-0ddfe4fede5a",
   "metadata": {},
   "source": [
    "Vamos a crear otra función para hacer comparaciones entre los meses y entre las ciudades"
   ]
  },
  {
   "cell_type": "code",
   "execution_count": 217,
   "id": "b4c33a29-3e82-4c82-809a-01f5fc2a89b5",
   "metadata": {},
   "outputs": [],
   "source": [
    "import plotly.graph_objects as go\n",
    "def generate_general_graphics(festivales_join,column):\n",
    "    \n",
    "    festivales_grouped = festivales_join.groupby(column).agg(\n",
    "    mean_price=('event_prices', 'mean'),\n",
    "    mean_followers=('event_followers', 'mean')\n",
    "    ).reset_index()\n",
    "    \n",
    "    # Asegurarse de que los meses estén en el orden correcto\n",
    "    if column == 'month':\n",
    "        order = ['Enero', 'Febrero', 'Marzo', 'Abril', 'Mayo', 'Junio', 'Julio', 'Agosto', 'Octubre', 'Noviembre', 'Diciembre']\n",
    "        column_title = 'Mes'\n",
    "\n",
    "    if column == 'city':\n",
    "        order = festivales_join[column].unique()\n",
    "        column_title = 'Ciudad'\n",
    "        \n",
    "    # Ahora obtenemos los datos para cada festival para las barras\n",
    "    festivales_grouped[column] = pd.Categorical(festivales_grouped[column], categories=order, ordered=True)\n",
    "\n",
    "\n",
    "    max_followers = int(max(festivales_grouped['mean_followers']))\n",
    "    step_followers = int(max_followers/10) + 1\n",
    "    tickvals_followers=list(range(0, max_followers + step_followers, step_followers))\n",
    "    ticktext_followers = [i for i in tickvals_followers]\n",
    "    \n",
    "    # Crear el gráfico\n",
    "    fig = go.Figure()\n",
    "    \n",
    "    # Añadir la traza para la media de precios\n",
    "    fig.add_trace(go.Scatter(\n",
    "        x=festivales_grouped[column],\n",
    "        y=festivales_grouped['mean_price'],\n",
    "        mode='lines+markers',\n",
    "        name='Media de Precios',\n",
    "        marker_color='rgba(50, 150, 250, 0.6)',\n",
    "        line=dict(width=3), \n",
    "    ))\n",
    "    \n",
    "    # Añadir la traza para la media de seguidores\n",
    "    fig.add_trace(go.Scatter(\n",
    "        x=festivales_grouped[column],\n",
    "        y=festivales_grouped['mean_followers'], \n",
    "        mode='lines+markers',\n",
    "        name='Media de Seguidores',\n",
    "        marker_color='rgba(255, 99, 132, 0.8)',\n",
    "        line=dict(width=3, dash='dash'),\n",
    "        yaxis='y2'\n",
    "    ))\n",
    "    \n",
    "    # Actualizar el diseño\n",
    "    fig.update_layout(\n",
    "        title=f\"Comparación de precios y seguidores por {column_title}\",\n",
    "        xaxis_title=f\"{column_title}\",\n",
    "        yaxis_title=\"Valor Medio\",\n",
    "        #yaxis2_title=\"Valor Medio\",\n",
    "        xaxis=dict(tickmode='array', tickvals=order, tickangle=45,showline=True,linecolor='black'), \n",
    "        yaxis=dict(\n",
    "            title='Precio en €',\n",
    "            showgrid=True,\n",
    "            zeroline=True, \n",
    "            showline=True,\n",
    "            linecolor='black'\n",
    "        ),\n",
    "        yaxis2=dict(\n",
    "            title='Followers', \n",
    "            overlaying='y', \n",
    "            side='right',\n",
    "            showgrid=False,  \n",
    "            tickvals=tickvals_followers,\n",
    "            ticktext = ticktext_followers,\n",
    "            showline=True, \n",
    "            linecolor='black'\n",
    "         ),\n",
    "        showlegend=True,\n",
    "        plot_bgcolor='rgba(240, 240, 240, 0.95)',\n",
    "        legend=dict(\n",
    "            x=1.15, \n",
    "            y=1,\n",
    "            traceorder='normal', \n",
    "            orientation='h',\n",
    "            bgcolor='rgba(255, 255, 255, 0.7)',\n",
    "            borderwidth=2,\n",
    "            bordercolor='black'\n",
    "        )\n",
    "    )\n",
    "    return fig\n",
    "\n",
    "\n"
   ]
  },
  {
   "cell_type": "markdown",
   "id": "ffe53292-9253-47d0-9cef-eb6f59424d7e",
   "metadata": {},
   "source": [
    "Generamos el gráfico para comparar los meses"
   ]
  },
  {
   "cell_type": "code",
   "execution_count": 223,
   "id": "505a4371-85b4-4cda-afab-d6e51d138ecd",
   "metadata": {},
   "outputs": [
    {
     "name": "stderr",
     "output_type": "stream",
     "text": [
      "C:\\Users\\34711\\AppData\\Local\\Temp\\ipykernel_38212\\1450215984.py:4: FutureWarning:\n",
      "\n",
      "The default of observed=False is deprecated and will be changed to True in a future version of pandas. Pass observed=False to retain current behavior or observed=True to adopt the future default and silence this warning.\n",
      "\n"
     ]
    }
   ],
   "source": [
    "grafico = generate_general_graphics(festivales_join,'month')\n",
    "grafico.update_layout(\n",
    "    width=600,\n",
    "    height=500\n",
    "    )\n",
    "grafico.write_html(f\"graphics/grafico_media_mes.html\")"
   ]
  },
  {
   "cell_type": "markdown",
   "id": "4d0644d6-6f9c-4c3f-b4bf-8cd65de20cd6",
   "metadata": {},
   "source": [
    "Creamos el gráfico para comparar las ciudades"
   ]
  },
  {
   "cell_type": "code",
   "execution_count": 221,
   "id": "882a5f65-2d3e-4942-951b-7337ed8e7f25",
   "metadata": {},
   "outputs": [],
   "source": [
    "grafico = generate_general_graphics(festivales_concat_graf,'city')\n",
    "grafico.update_layout(\n",
    "    width=600,\n",
    "    height=500 \n",
    "    )\n",
    "grafico.write_html(f\"graphics/grafico_media_ciudad.html\")"
   ]
  },
  {
   "cell_type": "code",
   "execution_count": null,
   "id": "569b4631-abe9-43b3-bf3d-38c46ba95a95",
   "metadata": {},
   "outputs": [],
   "source": []
  },
  {
   "cell_type": "code",
   "execution_count": null,
   "id": "bcb46753-1e0b-4dbd-af0a-b782b5312cbd",
   "metadata": {},
   "outputs": [],
   "source": []
  },
  {
   "cell_type": "code",
   "execution_count": null,
   "id": "d8b58769-3edb-4a7d-9384-dd0cb3f6170a",
   "metadata": {},
   "outputs": [],
   "source": []
  },
  {
   "cell_type": "code",
   "execution_count": null,
   "id": "fa78fc91-88ab-467b-b6a6-a31a9ecf0196",
   "metadata": {},
   "outputs": [],
   "source": []
  }
 ],
 "metadata": {
  "kernelspec": {
   "display_name": "Python 3 (ipykernel)",
   "language": "python",
   "name": "python3"
  },
  "language_info": {
   "codemirror_mode": {
    "name": "ipython",
    "version": 3
   },
   "file_extension": ".py",
   "mimetype": "text/x-python",
   "name": "python",
   "nbconvert_exporter": "python",
   "pygments_lexer": "ipython3",
   "version": "3.12.3"
  }
 },
 "nbformat": 4,
 "nbformat_minor": 5
}
